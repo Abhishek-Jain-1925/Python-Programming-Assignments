{
  "cells": [
    {
      "cell_type": "markdown",
      "id": "184c6284",
      "metadata": {
        "id": "184c6284"
      },
      "source": [
        "## Python Programming Assignment 11"
      ]
    },
    {
      "cell_type": "code",
      "execution_count": null,
      "id": "28706d0e",
      "metadata": {
        "id": "28706d0e"
      },
      "outputs": [],
      "source": [
        "1. Write a Python program to find words which are greater than given length k?"
      ]
    },
    {
      "cell_type": "code",
      "execution_count": null,
      "id": "da00b0b9",
      "metadata": {
        "id": "da00b0b9",
        "outputId": "0a8cfda3-3a7c-4088-d47c-a525cc799098"
      },
      "outputs": [
        {
          "name": "stdout",
          "output_type": "stream",
          "text": [
            "['apple', 'banana', 'elephant']\n"
          ]
        }
      ],
      "source": [
        "def find_words_greater_than_length(words, k):\n",
        "    result = []\n",
        "    for word in words:\n",
        "        if len(word) > k:\n",
        "            result.append(word)\n",
        "    return result\n",
        "\n",
        "word_list = [\"apple\", \"banana\", \"cat\", \"dog\", \"elephant\"]\n",
        "k = 3\n",
        "\n",
        "result = find_words_greater_than_length(word_list, k)\n",
        "print(result)"
      ]
    },
    {
      "cell_type": "code",
      "execution_count": null,
      "id": "36ed3f79",
      "metadata": {
        "id": "36ed3f79"
      },
      "outputs": [],
      "source": [
        "2. Write a Python program for removing i-th character from a string?"
      ]
    },
    {
      "cell_type": "code",
      "execution_count": null,
      "id": "879519bb",
      "metadata": {
        "id": "879519bb",
        "outputId": "76c49b4a-1b56-4eed-e4f1-ad61ac497461"
      },
      "outputs": [
        {
          "name": "stdout",
          "output_type": "stream",
          "text": [
            "exmple\n"
          ]
        }
      ],
      "source": [
        "def remove_ith_character(string, i):\n",
        "    if i < 0 or i >= len(string):\n",
        "        return string\n",
        "    return string[:i] + string[i+1:]\n",
        "\n",
        "input_string = \"example\"\n",
        "i = 2\n",
        "\n",
        "result = remove_ith_character(input_string, i)\n",
        "print(result)"
      ]
    },
    {
      "cell_type": "code",
      "execution_count": null,
      "id": "54c01712",
      "metadata": {
        "id": "54c01712"
      },
      "outputs": [],
      "source": [
        "3. Write a Python program to split and join a string?"
      ]
    },
    {
      "cell_type": "code",
      "execution_count": null,
      "id": "5d213660",
      "metadata": {
        "id": "5d213660",
        "outputId": "6f113fc9-4277-4998-b361-85f6f1a67e3f"
      },
      "outputs": [
        {
          "name": "stdout",
          "output_type": "stream",
          "text": [
            "Hello-world!-This-is-a-sample-string.\n"
          ]
        }
      ],
      "source": [
        "def split_and_join_string(string):\n",
        "    words = string.split()\n",
        "    joined_string = '-'.join(words)\n",
        "    return joined_string\n",
        "\n",
        "input_string = \"Hello world! This is a sample string.\"\n",
        "\n",
        "result = split_and_join_string(input_string)\n",
        "print(result)"
      ]
    },
    {
      "cell_type": "code",
      "execution_count": null,
      "id": "8e0908ef",
      "metadata": {
        "id": "8e0908ef"
      },
      "outputs": [],
      "source": [
        "4. Write a Python to check if a given string is binary string or not"
      ]
    },
    {
      "cell_type": "code",
      "execution_count": null,
      "id": "4341f7bf",
      "metadata": {
        "id": "4341f7bf",
        "outputId": "d169ada4-ff75-4495-c3f5-93fd7c3e9959"
      },
      "outputs": [
        {
          "name": "stdout",
          "output_type": "stream",
          "text": [
            "True\n"
          ]
        }
      ],
      "source": [
        "def is_binary_string(string):\n",
        "    for char in string:\n",
        "        if char != '0' and char != '1':\n",
        "            return False\n",
        "    return True\n",
        "\n",
        "input_string = \"101010101\"\n",
        "result = is_binary_string(input_string)\n",
        "print(result)"
      ]
    },
    {
      "cell_type": "code",
      "execution_count": null,
      "id": "c4d4d218",
      "metadata": {
        "id": "c4d4d218"
      },
      "outputs": [],
      "source": [
        "5. Write a Python program to find uncommon words from two Strings?"
      ]
    },
    {
      "cell_type": "code",
      "execution_count": null,
      "id": "07a7b272",
      "metadata": {
        "id": "07a7b272",
        "outputId": "6c1bee9b-dc05-4cd7-dc50-e25f0c37fc6d"
      },
      "outputs": [
        {
          "name": "stdout",
          "output_type": "stream",
          "text": [
            "{'string.', 'a', 'world!', 'This', 'Hello', 'sample', 'is'}\n"
          ]
        }
      ],
      "source": [
        "def find_uncommon_words(string1, string2):\n",
        "    words1 = set(string1.split())\n",
        "    words2 = set(string2.split())\n",
        "    uncommon_words = words1.symmetric_difference(words2)\n",
        "    return uncommon_words\n",
        "\n",
        "string1 = \"Hello world!\"\n",
        "string2 = \"This is a sample string.\"\n",
        "\n",
        "result = find_uncommon_words(string1, string2)\n",
        "print(result)"
      ]
    },
    {
      "cell_type": "code",
      "execution_count": null,
      "id": "f838ff7f",
      "metadata": {
        "id": "f838ff7f"
      },
      "outputs": [],
      "source": [
        "6. Write a Python to find all duplicate characters in string?"
      ]
    },
    {
      "cell_type": "code",
      "execution_count": null,
      "id": "aaf3569c",
      "metadata": {
        "id": "aaf3569c",
        "outputId": "e209835c-c05a-4fe6-deb7-f62be641e26a"
      },
      "outputs": [
        {
          "name": "stdout",
          "output_type": "stream",
          "text": [
            "['l']\n"
          ]
        }
      ],
      "source": [
        "def find_duplicate_characters(string):\n",
        "    duplicates = []\n",
        "    for char in string:\n",
        "        if string.count(char) > 1 and char not in duplicates:\n",
        "            duplicates.append(char)\n",
        "    return duplicates\n",
        "\n",
        "input_string = \"Hello\"\n",
        "\n",
        "result = find_duplicate_characters(input_string)\n",
        "print(result)"
      ]
    },
    {
      "cell_type": "code",
      "execution_count": null,
      "id": "3b02c55c",
      "metadata": {
        "id": "3b02c55c"
      },
      "outputs": [],
      "source": [
        "7. Write a Python Program to check if a string contains any special character?"
      ]
    },
    {
      "cell_type": "code",
      "execution_count": null,
      "id": "2f9f0df2",
      "metadata": {
        "id": "2f9f0df2",
        "outputId": "e9251ee1-6f7f-4c1a-dce6-d9f695ef266b"
      },
      "outputs": [
        {
          "name": "stdout",
          "output_type": "stream",
          "text": [
            "True\n"
          ]
        }
      ],
      "source": [
        "import re\n",
        "\n",
        "def contains_special_character(string):\n",
        "    special_char_regex = re.compile('[@_!#$%^&*()<>?/\\|}{~:]')\n",
        "    if special_char_regex.search(string) is None:\n",
        "        return False\n",
        "    return True\n",
        "\n",
        "input_string = \"Hello!\"\n",
        "result = contains_special_character(input_string)\n",
        "print(result)"
      ]
    },
    {
      "cell_type": "code",
      "source": [],
      "metadata": {
        "id": "iB0A1apnijmP"
      },
      "id": "iB0A1apnijmP",
      "execution_count": null,
      "outputs": []
    },
    {
      "cell_type": "markdown",
      "source": [
        "## Thank You...!! - By Mr.Abhishek Sachin Dhondalkar"
      ],
      "metadata": {
        "id": "LqY3T7-nihKU"
      },
      "id": "LqY3T7-nihKU"
    }
  ],
  "metadata": {
    "kernelspec": {
      "display_name": "Python 3 (ipykernel)",
      "language": "python",
      "name": "python3"
    },
    "language_info": {
      "codemirror_mode": {
        "name": "ipython",
        "version": 3
      },
      "file_extension": ".py",
      "mimetype": "text/x-python",
      "name": "python",
      "nbconvert_exporter": "python",
      "pygments_lexer": "ipython3",
      "version": "3.9.13"
    },
    "colab": {
      "provenance": []
    }
  },
  "nbformat": 4,
  "nbformat_minor": 5
}