{
  "cells": [
    {
      "cell_type": "markdown",
      "id": "0246c24a",
      "metadata": {
        "id": "0246c24a"
      },
      "source": [
        "## Python Assignment No. 21"
      ]
    },
    {
      "cell_type": "markdown",
      "id": "1135c38f",
      "metadata": {
        "id": "1135c38f"
      },
      "source": [
        "### 1. Add the current date to the text file today.txt as a string."
      ]
    },
    {
      "cell_type": "code",
      "execution_count": null,
      "id": "15101333",
      "metadata": {
        "id": "15101333"
      },
      "outputs": [],
      "source": [
        "import datetime\n",
        "\n",
        "# Get the current date\n",
        "current_date = datetime.date.today()\n",
        "\n",
        "# Convert the date to a string\n",
        "current_date_string = str(current_date)\n",
        "\n",
        "# Open the file in append mode and write the date\n",
        "with open(\"today.txt\", \"a\") as file:\n",
        "    file.write(current_date_string + \"\\n\")\n"
      ]
    },
    {
      "cell_type": "markdown",
      "id": "4433e401",
      "metadata": {
        "id": "4433e401"
      },
      "source": [
        "### 2. Read the text file today.txt into the string today_string"
      ]
    },
    {
      "cell_type": "code",
      "execution_count": null,
      "id": "38921e90",
      "metadata": {
        "id": "38921e90",
        "outputId": "87f302b8-7a14-4503-d69c-50f1acdcb3a6"
      },
      "outputs": [
        {
          "name": "stdout",
          "output_type": "stream",
          "text": [
            "2023-05-27\n",
            "\n"
          ]
        }
      ],
      "source": [
        "with open(\"today.txt\", \"r\") as file:\n",
        "    today_string = file.read()\n",
        "\n",
        "print(today_string)\n"
      ]
    },
    {
      "cell_type": "markdown",
      "id": "c1085737",
      "metadata": {
        "id": "c1085737"
      },
      "source": [
        "### 3. Parse the date from today_string."
      ]
    },
    {
      "cell_type": "code",
      "execution_count": null,
      "id": "80dec58e",
      "metadata": {
        "id": "80dec58e",
        "outputId": "6c94fcd4-220f-4ff6-bca7-29e700cd967f"
      },
      "outputs": [
        {
          "name": "stdout",
          "output_type": "stream",
          "text": [
            "2023-05-27 00:00:00\n"
          ]
        }
      ],
      "source": [
        "import datetime\n",
        "\n",
        "# Parse the date from the today_string\n",
        "parsed_date = datetime.datetime.strptime(today_string.strip(), \"%Y-%m-%d\")\n",
        "\n",
        "# Print the parsed date\n",
        "print(parsed_date)\n"
      ]
    },
    {
      "cell_type": "markdown",
      "id": "f3593906",
      "metadata": {
        "id": "f3593906"
      },
      "source": [
        "### 4. List the files in your current directory"
      ]
    },
    {
      "cell_type": "code",
      "execution_count": 1,
      "id": "7c6dbbe1",
      "metadata": {
        "colab": {
          "base_uri": "https://localhost:8080/"
        },
        "id": "7c6dbbe1",
        "outputId": "5cb8897a-d8a9-4e91-feef-797438540fbb"
      },
      "outputs": [
        {
          "output_type": "stream",
          "name": "stdout",
          "text": [
            ".config\n",
            "sample_data\n"
          ]
        }
      ],
      "source": [
        "import os\n",
        "\n",
        "# Get the list of files in the current directory\n",
        "files = os.listdir()\n",
        "\n",
        "# Print the list of files\n",
        "for file in files:\n",
        "    print(file)\n"
      ]
    },
    {
      "cell_type": "markdown",
      "id": "e33a6b79",
      "metadata": {
        "id": "e33a6b79"
      },
      "source": [
        "### 5. Create a list of all of the files in your parent directory (minimum five files should be available)."
      ]
    },
    {
      "cell_type": "code",
      "execution_count": null,
      "id": "7e4c4e73",
      "metadata": {
        "id": "7e4c4e73",
        "outputId": "3dea9bfd-32b2-4dd7-fe5e-7bf9b3ce25f0"
      },
      "outputs": [
        {
          "name": "stdout",
          "output_type": "stream",
          "text": [
            ".ipynb_checkpoints\n",
            "Deep Learning Assignments\n",
            "M.Sc.Data Science Fergusson Assignments Sem 1 2 and 3\n",
            "Machine Learning Assidnments\n",
            "Python Assignment Advance\n",
            "Python Assignment Basic\n",
            "Python Assignment Code\n"
          ]
        }
      ],
      "source": [
        "import os\n",
        "\n",
        "# Get the parent directory path\n",
        "parent_directory = os.path.abspath('..')\n",
        "\n",
        "# Get the list of files in the parent directory\n",
        "files = os.listdir(parent_directory)\n",
        "\n",
        "# Print the list of files\n",
        "for file in files:\n",
        "    print(file)\n"
      ]
    },
    {
      "cell_type": "markdown",
      "id": "b084dfea",
      "metadata": {
        "id": "b084dfea"
      },
      "source": [
        "### 6. Use multiprocessing to create three separate processes. Make each one wait a random number of seconds between one and five, print the current time, and then exit."
      ]
    },
    {
      "cell_type": "code",
      "execution_count": null,
      "id": "f52ae606",
      "metadata": {
        "id": "f52ae606"
      },
      "outputs": [],
      "source": [
        "import multiprocessing\n",
        "import time\n",
        "import random\n",
        "from datetime import datetime\n",
        "\n",
        "def worker():\n",
        "    wait_time = random.randint(1, 5)\n",
        "    time.sleep(wait_time)\n",
        "    current_time = datetime.now().strftime(\"%Y-%m-%d %H:%M:%S\")\n",
        "    print(f\"Process ID: {multiprocessing.current_process().name} - Current Time: {current_time}\")\n",
        "\n",
        "if __name__ == \"__main__\":\n",
        "    processes = []\n",
        "    for _ in range(3):\n",
        "        p = multiprocessing.Process(target=worker)\n",
        "        processes.append(p)\n",
        "        p.start()\n",
        "\n",
        "    for p in processes:\n",
        "        p.join()\n"
      ]
    },
    {
      "cell_type": "markdown",
      "id": "69dd2eee",
      "metadata": {
        "id": "69dd2eee"
      },
      "source": [
        "### 7. Create a date object of your day of birth."
      ]
    },
    {
      "cell_type": "code",
      "execution_count": 3,
      "id": "b3cb4f54",
      "metadata": {
        "colab": {
          "base_uri": "https://localhost:8080/"
        },
        "id": "b3cb4f54",
        "outputId": "bcdd81f9-39ca-4a7d-f130-f0c62ff59396"
      },
      "outputs": [
        {
          "output_type": "stream",
          "name": "stdout",
          "text": [
            "Date of Birth :  2001-07-14\n"
          ]
        }
      ],
      "source": [
        "import datetime\n",
        "\n",
        "# Specify the day of birth\n",
        "birth_date = datetime.date(2001, 7, 14)\n",
        "\n",
        "# Print the day of birth\n",
        "print(\"Date of Birth : \",birth_date)\n"
      ]
    },
    {
      "cell_type": "markdown",
      "id": "a1dd6933",
      "metadata": {
        "id": "a1dd6933"
      },
      "source": [
        "### 8. What day of the week was your day of birth?"
      ]
    },
    {
      "cell_type": "code",
      "execution_count": null,
      "id": "09de89e7",
      "metadata": {
        "id": "09de89e7",
        "outputId": "71a4b197-f0ef-4c69-9b3b-c522594b4c8e"
      },
      "outputs": [
        {
          "name": "stdout",
          "output_type": "stream",
          "text": [
            "Saturday\n"
          ]
        }
      ],
      "source": [
        "import datetime\n",
        "\n",
        "#day of birth\n",
        "birth_date = datetime.date(1999, 5 , 15)\n",
        "\n",
        "\n",
        "day_of_week = birth_date.strftime(\"%A\")\n",
        "\n",
        "\n",
        "print(day_of_week)\n"
      ]
    },
    {
      "cell_type": "markdown",
      "id": "3209acbb",
      "metadata": {
        "id": "3209acbb"
      },
      "source": [
        "### 9. When will you be (or when were you) 10,000 days old?"
      ]
    },
    {
      "cell_type": "code",
      "execution_count": null,
      "id": "6e2cb1e5",
      "metadata": {
        "id": "6e2cb1e5",
        "outputId": "9605a13d-4849-478c-b649-b8ca00174e23"
      },
      "outputs": [
        {
          "name": "stdout",
          "output_type": "stream",
          "text": [
            "2026-09-30\n"
          ]
        }
      ],
      "source": [
        "ten_thousand_days = datetime.timedelta(days=10000)\n",
        "result_date = birth_date + ten_thousand_days\n",
        "\n",
        "# Print the result date\n",
        "print(result_date)"
      ]
    },
    {
      "cell_type": "markdown",
      "source": [
        "## Thank You...!! -By Mr.Abhishek Sachin Dhondalkar"
      ],
      "metadata": {
        "id": "7-2bw_4RU6T3"
      },
      "id": "7-2bw_4RU6T3"
    }
  ],
  "metadata": {
    "kernelspec": {
      "display_name": "Python 3 (ipykernel)",
      "language": "python",
      "name": "python3"
    },
    "language_info": {
      "codemirror_mode": {
        "name": "ipython",
        "version": 3
      },
      "file_extension": ".py",
      "mimetype": "text/x-python",
      "name": "python",
      "nbconvert_exporter": "python",
      "pygments_lexer": "ipython3",
      "version": "3.9.13"
    },
    "colab": {
      "provenance": []
    }
  },
  "nbformat": 4,
  "nbformat_minor": 5
}