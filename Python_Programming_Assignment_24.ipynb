{
  "cells": [
    {
      "cell_type": "markdown",
      "id": "2aed3428",
      "metadata": {
        "id": "2aed3428"
      },
      "source": [
        "## Python Programming Assignment 24"
      ]
    },
    {
      "cell_type": "markdown",
      "id": "e090c5ff",
      "metadata": {
        "id": "e090c5ff"
      },
      "source": [
        "Question1\n",
        "Create a function that takes an integer and returns a list from 1 to the given number, where:\n",
        "1. If the number can be divided evenly by 4, amplify it by 10 (i.e. return 10 times the\n",
        "number).\n",
        "2. If the number cannot be divided evenly by 4, simply return the number.\n",
        "Examples\n",
        "amplify(4) ➞ [1, 2, 3, 40]\n",
        "amplify(3) ➞ [1, 2, 3]\n",
        "amplify(25) ➞ [1, 2, 3, 40, 5, 6, 7, 80, 9, 10, 11, 120, 13, 14, 15, 160,\n",
        "17, 18, 19, 200, 21, 22, 23, 240, 25]\n",
        "Notes\n",
        "The given integer will always be equal to or greater than 1.\n",
        "Include the number (see example above).\n",
        "To perform this problem with its intended purpose, try doing it with list\n",
        "comprehensions. If thats too difficult, just solve the challenge any way you can."
      ]
    },
    {
      "cell_type": "code",
      "execution_count": null,
      "id": "608c1522",
      "metadata": {
        "id": "608c1522"
      },
      "outputs": [],
      "source": [
        "def amplify(num):\n",
        "    return [i * 10 if i % 4 == 0 else i for i in range(1, num + 1)]"
      ]
    },
    {
      "cell_type": "code",
      "execution_count": null,
      "id": "0adebb72",
      "metadata": {
        "id": "0adebb72",
        "outputId": "a4c6524e-7886-4091-c4d8-6a6703bb1af9"
      },
      "outputs": [
        {
          "name": "stdout",
          "output_type": "stream",
          "text": [
            "[1, 2, 3, 40]\n"
          ]
        }
      ],
      "source": [
        "print(amplify(4))"
      ]
    },
    {
      "cell_type": "markdown",
      "id": "93824a89",
      "metadata": {
        "id": "93824a89"
      },
      "source": [
        "Question2\n",
        "Create a function that takes a list of numbers and return the number that&#39;s unique.\n",
        "Examples\n",
        "unique([3, 3, 3, 7, 3, 3]) ➞ 7\n",
        "unique([0, 0, 0.77, 0, 0]) ➞ 0.77\n",
        "unique([0, 1, 1, 1, 1, 1, 1, 1]) ➞ 0\n",
        "Notes\n",
        "Test cases will always have exactly one unique number while all others are the same."
      ]
    },
    {
      "cell_type": "code",
      "execution_count": null,
      "id": "2b2c8e5c",
      "metadata": {
        "id": "2b2c8e5c"
      },
      "outputs": [],
      "source": [
        "def unique(numbers):\n",
        "    frequency = {}\n",
        "    \n",
        "    # Count the frequency of each number\n",
        "    for num in numbers:\n",
        "        frequency[num] = frequency.get(num, 0) + 1\n",
        "    \n",
        "    # Find the number with a frequency of 1\n",
        "    for num, freq in frequency.items():\n",
        "        if freq == 1:\n",
        "            return num"
      ]
    },
    {
      "cell_type": "code",
      "execution_count": null,
      "id": "54222258",
      "metadata": {
        "id": "54222258",
        "outputId": "712a8ee9-9d22-4a61-fafb-9db11f75be91"
      },
      "outputs": [
        {
          "name": "stdout",
          "output_type": "stream",
          "text": [
            "7\n"
          ]
        }
      ],
      "source": [
        "print(unique([3, 3, 3, 7, 3, 3]))"
      ]
    },
    {
      "cell_type": "markdown",
      "id": "bcff8ced",
      "metadata": {
        "id": "bcff8ced"
      },
      "source": [
        "Question3\n",
        "Your task is to create a Circle constructor that creates a circle with a radius provided by an\n",
        "argument. The circles constructed must have two getters getArea() (PIr^2) and\n",
        "getPerimeter() (2PI*r) which give both respective areas and perimeter (circumference).\n",
        "\n",
        "For help with this class, I have provided you with a Rectangle constructor which you can use\n",
        "as a base example.\n",
        "Examples\n",
        "circy = Circle(11)\n",
        "circy.getArea()\n",
        "Should return 380.132711084365\n",
        "circy = Circle(4.44)\n",
        "circy.getPerimeter()\n",
        "Should return 27.897342763877365\n",
        "Notes\n",
        "Round results up to the nearest integer."
      ]
    },
    {
      "cell_type": "code",
      "execution_count": null,
      "id": "852e694c",
      "metadata": {
        "id": "852e694c"
      },
      "outputs": [],
      "source": [
        "import math\n",
        "\n",
        "class Circle:\n",
        "    def __init__(self, radius):\n",
        "        self.radius = radius\n",
        "    \n",
        "    def getArea(self):\n",
        "        area = math.pi * self.radius**2\n",
        "        return round(area)\n",
        "    \n",
        "    def getPerimeter(self):\n",
        "        perimeter = 2 * math.pi * self.radius\n",
        "        return round(perimeter, 2)"
      ]
    },
    {
      "cell_type": "code",
      "execution_count": null,
      "id": "31d9badd",
      "metadata": {
        "id": "31d9badd",
        "outputId": "7fba48f6-ab69-4f29-ec1e-b2e60618e736"
      },
      "outputs": [
        {
          "name": "stdout",
          "output_type": "stream",
          "text": [
            "380\n",
            "69.12\n",
            "62\n",
            "27.9\n"
          ]
        }
      ],
      "source": [
        "circy = Circle(11)\n",
        "print(circy.getArea())      \n",
        "print(circy.getPerimeter())   \n",
        "\n",
        "circy = Circle(4.44)\n",
        "print(circy.getArea())       \n",
        "print(circy.getPerimeter())  \n"
      ]
    },
    {
      "cell_type": "markdown",
      "id": "31f0b7b2",
      "metadata": {
        "id": "31f0b7b2"
      },
      "source": [
        "Question4\n",
        "Create a function that takes a list of strings and return a list, sorted from shortest to longest."
      ]
    },
    {
      "cell_type": "code",
      "execution_count": null,
      "id": "cbda2484",
      "metadata": {
        "id": "cbda2484"
      },
      "outputs": [],
      "source": [
        "def sort_by_length(strings):\n",
        "    strings.sort(key=len)\n",
        "    return strings"
      ]
    },
    {
      "cell_type": "code",
      "execution_count": null,
      "id": "9703e642",
      "metadata": {
        "id": "9703e642",
        "outputId": "544d24a1-77b7-4d00-b968-7ea9dc315fa8"
      },
      "outputs": [
        {
          "name": "stdout",
          "output_type": "stream",
          "text": [
            "['Apple', 'Google', 'Microsoft']\n",
            "['Raphael', 'Leonardo', 'Donatello', 'Michelangelo']\n"
          ]
        }
      ],
      "source": [
        "print(sort_by_length([\"Google\", \"Apple\", \"Microsoft\"]))\n",
        "print(sort_by_length([\"Leonardo\", \"Michelangelo\", \"Raphael\", \"Donatello\"]))"
      ]
    },
    {
      "cell_type": "markdown",
      "id": "08d65103",
      "metadata": {
        "id": "08d65103"
      },
      "source": [
        "Question5\n",
        "Create a function that validates whether three given integers form a Pythagorean triplet. The\n",
        "sum of the squares of the two smallest integers must equal the square of the largest number to\n",
        "be validated.\n",
        "\n",
        "Examples\n",
        "is_triplet(3, 4, 5) ➞ True\n",
        "3² + 4² = 25\n",
        "5² = 25\n",
        "is_triplet(13, 5, 12) ➞ True\n",
        "5² + 12² = 169\n",
        "13² = 169\n",
        "is_triplet(1, 2, 3) ➞ False\n",
        "1² + 2² = 5\n",
        "3² = 9\n",
        "Notes\n",
        "Numbers may not be given in a sorted order."
      ]
    },
    {
      "cell_type": "code",
      "execution_count": null,
      "id": "729c8002",
      "metadata": {
        "id": "729c8002"
      },
      "outputs": [],
      "source": [
        "def is_triplet(a, b, c):\n",
        "    # Square the numbers\n",
        "    squared_nums = [a**2, b**2, c**2]\n",
        "\n",
        "    # Sort the squared numbers in ascending order\n",
        "    squared_nums.sort()\n",
        "\n",
        "    # Check if the sum of the squares of the two smaller numbers equals the square of the largest number\n",
        "    return squared_nums[0] + squared_nums[1] == squared_nums[2]"
      ]
    },
    {
      "cell_type": "code",
      "execution_count": null,
      "id": "c49f8af6",
      "metadata": {
        "id": "c49f8af6",
        "outputId": "a2a12576-8f4f-4d25-cb35-64d9228b641b"
      },
      "outputs": [
        {
          "name": "stdout",
          "output_type": "stream",
          "text": [
            "True\n"
          ]
        }
      ],
      "source": [
        "print(is_triplet(3, 4, 5))"
      ]
    },
    {
      "cell_type": "markdown",
      "source": [
        "## Thank You...!! - By Mr.Abhishek Sachin Dhondalkar"
      ],
      "metadata": {
        "id": "kQ0ATfdElGpV"
      },
      "id": "kQ0ATfdElGpV"
    }
  ],
  "metadata": {
    "kernelspec": {
      "display_name": "Python 3 (ipykernel)",
      "language": "python",
      "name": "python3"
    },
    "language_info": {
      "codemirror_mode": {
        "name": "ipython",
        "version": 3
      },
      "file_extension": ".py",
      "mimetype": "text/x-python",
      "name": "python",
      "nbconvert_exporter": "python",
      "pygments_lexer": "ipython3",
      "version": "3.9.13"
    },
    "colab": {
      "provenance": []
    }
  },
  "nbformat": 4,
  "nbformat_minor": 5
}