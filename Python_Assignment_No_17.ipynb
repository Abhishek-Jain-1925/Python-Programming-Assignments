{
  "cells": [
    {
      "cell_type": "markdown",
      "id": "cf38fe56",
      "metadata": {
        "id": "cf38fe56"
      },
      "source": [
        "## Python Assignment No. 17"
      ]
    },
    {
      "cell_type": "markdown",
      "id": "d3134782",
      "metadata": {
        "id": "d3134782"
      },
      "source": [
        "### 1. Assign the value 7 to the variable guess_me. Then, write the conditional tests (if, else, and elif) to  print the string &#39;too low&#39; if guess_me is less than 7, &#39;too high&#39; if greater than 7, and &#39;just right&#39; if equal ]to 7."
      ]
    },
    {
      "cell_type": "code",
      "execution_count": null,
      "id": "da46ed8a",
      "metadata": {
        "id": "da46ed8a",
        "outputId": "b60f7d6c-49dd-4071-b676-9090dc29ca97"
      },
      "outputs": [
        {
          "name": "stdout",
          "output_type": "stream",
          "text": [
            "just right\n"
          ]
        }
      ],
      "source": [
        "guess_me = 7\n",
        "\n",
        "if guess_me < 7:\n",
        "    print('too low')\n",
        "elif guess_me > 7:\n",
        "    print('too high')\n",
        "else:\n",
        "    print('just right')\n"
      ]
    },
    {
      "cell_type": "markdown",
      "id": "5f9162c4",
      "metadata": {
        "id": "5f9162c4"
      },
      "source": [
        "### 2. Assign the value 7 to the variable guess_me and the value 1 to the variable start. Write a whileloop that compares start with guess_me. Print too low if start is less than guess me. If start equalsguess_me, print &#39;found it!&#39; and exit the loop. If start is greater than guess_me, print &#39;oops&#39; and exitthe loop. Increment start at the end of the loop."
      ]
    },
    {
      "cell_type": "code",
      "execution_count": null,
      "id": "58027a38",
      "metadata": {
        "id": "58027a38",
        "outputId": "f8e551ba-7e47-4997-e068-dd6b2e1210db"
      },
      "outputs": [
        {
          "name": "stdout",
          "output_type": "stream",
          "text": [
            "too low\n",
            "too low\n",
            "too low\n",
            "too low\n",
            "too low\n",
            "too low\n",
            "found it!\n"
          ]
        }
      ],
      "source": [
        "guess_me = 7\n",
        "start = 1\n",
        "\n",
        "while True:\n",
        "    if start < guess_me:\n",
        "        print('too low')\n",
        "    elif start == guess_me:\n",
        "        print('found it!')\n",
        "        break\n",
        "    elif start > guess_me:\n",
        "        print('oops')\n",
        "        break\n",
        "    start += 1\n"
      ]
    },
    {
      "cell_type": "markdown",
      "id": "1244701f",
      "metadata": {
        "id": "1244701f"
      },
      "source": [
        "### 3. Print the following values of the list [3, 2, 1, 0] using a for loop."
      ]
    },
    {
      "cell_type": "code",
      "execution_count": null,
      "id": "e15a0702",
      "metadata": {
        "id": "e15a0702",
        "outputId": "126f072b-d036-4554-e01c-0ca14dbba90f"
      },
      "outputs": [
        {
          "name": "stdout",
          "output_type": "stream",
          "text": [
            "3\n",
            "2\n",
            "1\n",
            "0\n"
          ]
        }
      ],
      "source": [
        "my_list = [3, 2, 1, 0]\n",
        "\n",
        "for value in my_list:\n",
        "    print(value)\n"
      ]
    },
    {
      "cell_type": "markdown",
      "id": "860c3d38",
      "metadata": {
        "id": "860c3d38"
      },
      "source": [
        "### 4. Use a list comprehension to make a list of the even numbers in range(10)"
      ]
    },
    {
      "cell_type": "code",
      "execution_count": null,
      "id": "b3db964b",
      "metadata": {
        "id": "b3db964b",
        "outputId": "60f83219-935c-4a8e-ba3c-64e1e1d2c2df"
      },
      "outputs": [
        {
          "name": "stdout",
          "output_type": "stream",
          "text": [
            "[0, 2, 4, 6, 8]\n"
          ]
        }
      ],
      "source": [
        "even_numbers = [num for num in range(10) if num % 2 == 0]\n",
        "print(even_numbers)"
      ]
    },
    {
      "cell_type": "markdown",
      "id": "dc112bcb",
      "metadata": {
        "id": "dc112bcb"
      },
      "source": [
        "### 5. Use a dictionary comprehension to create the dictionary squares. Use range(10) to return the keys, and use the square of each key as its value."
      ]
    },
    {
      "cell_type": "code",
      "execution_count": null,
      "id": "760b9949",
      "metadata": {
        "id": "760b9949",
        "outputId": "c7dafd71-84af-4597-89eb-aaeecdc0e677"
      },
      "outputs": [
        {
          "name": "stdout",
          "output_type": "stream",
          "text": [
            "{0: 0, 1: 1, 2: 4, 3: 9, 4: 16, 5: 25, 6: 36, 7: 49, 8: 64, 9: 81}\n"
          ]
        }
      ],
      "source": [
        "squares = {num: num**2 for num in range(10)}\n",
        "print(squares)\n"
      ]
    },
    {
      "cell_type": "markdown",
      "id": "0702d738",
      "metadata": {
        "id": "0702d738"
      },
      "source": [
        "### 6. Construct the set odd from the odd numbers in the range using a set comprehension (10)."
      ]
    },
    {
      "cell_type": "code",
      "execution_count": null,
      "id": "a35a68f5",
      "metadata": {
        "id": "a35a68f5",
        "outputId": "5fa15c37-7604-45b0-ae03-4f2bad04d5ed"
      },
      "outputs": [
        {
          "name": "stdout",
          "output_type": "stream",
          "text": [
            "{1, 3, 5, 7, 9}\n"
          ]
        }
      ],
      "source": [
        "odd = {num for num in range(10) if num % 2 != 0}\n",
        "print(odd)\n"
      ]
    },
    {
      "cell_type": "markdown",
      "id": "15969617",
      "metadata": {
        "id": "15969617"
      },
      "source": [
        "### 7. Use a generator comprehension to return the string &#39;Got &#39; and a number for the numbers in range(10). Iterate through this by using a for loop."
      ]
    },
    {
      "cell_type": "code",
      "execution_count": null,
      "id": "4cc40cc6",
      "metadata": {
        "id": "4cc40cc6",
        "outputId": "e0bcd069-cfd3-42fc-9803-70c562e719ce"
      },
      "outputs": [
        {
          "name": "stdout",
          "output_type": "stream",
          "text": [
            "Got 0\n",
            "Got 1\n",
            "Got 2\n",
            "Got 3\n",
            "Got 4\n",
            "Got 5\n",
            "Got 6\n",
            "Got 7\n",
            "Got 8\n",
            "Got 9\n"
          ]
        }
      ],
      "source": [
        "generator = ('Got ' + str(num) for num in range(10))\n",
        "\n",
        "for item in generator:\n",
        "    print(item)\n"
      ]
    },
    {
      "cell_type": "markdown",
      "id": "e03ef3ab",
      "metadata": {
        "id": "e03ef3ab"
      },
      "source": [
        "### 8. Define a function called good that returns the list [&#39;Harry&#39;, &#39;Ron&#39;, &#39;Hermione&#39;]."
      ]
    },
    {
      "cell_type": "code",
      "execution_count": null,
      "id": "0b8df405",
      "metadata": {
        "id": "0b8df405",
        "outputId": "16f92937-ebda-4157-f5c5-31bac231e1e6"
      },
      "outputs": [
        {
          "name": "stdout",
          "output_type": "stream",
          "text": [
            "['Harry', 'Ron', 'Hermione']\n"
          ]
        }
      ],
      "source": [
        "def good():\n",
        "    return ['Harry', 'Ron', 'Hermione']\n",
        "\n",
        "# Call the function and store the returned list\n",
        "result = good()\n",
        "\n",
        "print(result)\n"
      ]
    },
    {
      "cell_type": "markdown",
      "id": "af3066f5",
      "metadata": {
        "id": "af3066f5"
      },
      "source": [
        "### 9. Define a generator function called get_odds that returns the odd numbers from range(10). Use a for loop to find and print the third value returned."
      ]
    },
    {
      "cell_type": "code",
      "execution_count": null,
      "id": "f3b8c6f2",
      "metadata": {
        "id": "f3b8c6f2",
        "outputId": "27ef571e-6291-4805-c3ee-60da391d168e"
      },
      "outputs": [
        {
          "name": "stdout",
          "output_type": "stream",
          "text": [
            "The third odd number is: 5\n"
          ]
        }
      ],
      "source": [
        "def get_odds():\n",
        "    for num in range(10):\n",
        "        if num % 2 != 0:\n",
        "            yield num\n",
        "\n",
        "# Iterate through the generator using a for loop\n",
        "for i, num in enumerate(get_odds()):\n",
        "    if i == 2:\n",
        "        print(\"The third odd number is:\", num)\n",
        "        break\n"
      ]
    },
    {
      "cell_type": "markdown",
      "id": "9fbf9738",
      "metadata": {
        "id": "9fbf9738"
      },
      "source": [
        "### 10. Define an exception called OopsException. Raise this exception to see what happens. Then write the code to catch this exception and print &#39;Caught an oops&#39;."
      ]
    },
    {
      "cell_type": "code",
      "execution_count": null,
      "id": "92be5d97",
      "metadata": {
        "id": "92be5d97",
        "outputId": "99d2fa8f-3822-4a6d-8feb-a2a910dbf64c"
      },
      "outputs": [
        {
          "name": "stdout",
          "output_type": "stream",
          "text": [
            "Caught an oops\n"
          ]
        }
      ],
      "source": [
        "class OopsException(Exception):\n",
        "    pass\n",
        "\n",
        "try:\n",
        "    raise OopsException(\"Something went wrong!\")\n",
        "except OopsException as e:\n",
        "    print('Caught an oops')\n"
      ]
    },
    {
      "cell_type": "markdown",
      "id": "58672f53",
      "metadata": {
        "id": "58672f53"
      },
      "source": [
        "### 11. Use zip() to make a dictionary called movies that pairs these lists: titles = [&#39;Creature of Habit&#39;,&#39;Crewel Fate&#39;] and plots = [&#39;A nun turns into a monster&#39;, &#39;A haunted yarn shop&#39;]."
      ]
    },
    {
      "cell_type": "code",
      "execution_count": null,
      "id": "45f4b721",
      "metadata": {
        "id": "45f4b721",
        "outputId": "93413a70-f6e9-4ceb-a8b0-2f7e3f5d23bc"
      },
      "outputs": [
        {
          "name": "stdout",
          "output_type": "stream",
          "text": [
            "{'Creature of Habit': 'A nun turns into a monster', 'Crewel Fate': 'A haunted yarn shop'}\n"
          ]
        }
      ],
      "source": [
        "titles = ['Creature of Habit', 'Crewel Fate']\n",
        "plots = ['A nun turns into a monster', 'A haunted yarn shop']\n",
        "\n",
        "movies = dict(zip(titles, plots))\n",
        "print(movies)\n"
      ]
    },
    {
      "cell_type": "markdown",
      "id": "a98db951",
      "metadata": {
        "id": "a98db951"
      },
      "source": [
        "zip(titles, plots) pairs the corresponding elements from the titles and plots lists. \n",
        "\n",
        "\n",
        "The dict() function is then used to convert the resulting pairs into a dictionary."
      ]
    },
    {
      "cell_type": "markdown",
      "source": [
        "## Thank You...!! -By Mr.Abhishek Sachin Dhondalkar"
      ],
      "metadata": {
        "id": "F-su4kteTqLK"
      },
      "id": "F-su4kteTqLK"
    }
  ],
  "metadata": {
    "kernelspec": {
      "display_name": "Python 3 (ipykernel)",
      "language": "python",
      "name": "python3"
    },
    "language_info": {
      "codemirror_mode": {
        "name": "ipython",
        "version": 3
      },
      "file_extension": ".py",
      "mimetype": "text/x-python",
      "name": "python",
      "nbconvert_exporter": "python",
      "pygments_lexer": "ipython3",
      "version": "3.9.13"
    },
    "colab": {
      "provenance": []
    }
  },
  "nbformat": 4,
  "nbformat_minor": 5
}