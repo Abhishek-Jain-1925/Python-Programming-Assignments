{
  "cells": [
    {
      "cell_type": "markdown",
      "id": "3f3f931a",
      "metadata": {
        "id": "3f3f931a"
      },
      "source": [
        "## Python Programming Assignment 14"
      ]
    },
    {
      "cell_type": "markdown",
      "id": "635ad9ad",
      "metadata": {
        "id": "635ad9ad"
      },
      "source": [
        "Question 1:\n",
        "Define a class with a generator which can iterate the numbers, which are divisible by\n",
        "7, between a given range 0 and n."
      ]
    },
    {
      "cell_type": "code",
      "execution_count": null,
      "id": "ef3147ba",
      "metadata": {
        "id": "ef3147ba",
        "outputId": "c6f9348c-04bf-4451-d104-e43cac3d7d36"
      },
      "outputs": [
        {
          "name": "stdout",
          "output_type": "stream",
          "text": [
            "0\n",
            "7\n",
            "14\n",
            "21\n",
            "28\n",
            "35\n",
            "42\n",
            "49\n"
          ]
        }
      ],
      "source": [
        "class DivisibleBySeven:\n",
        "    def __init__(self, n):\n",
        "        self.n = n\n",
        "\n",
        "    def generate_divisible_by_seven(self):\n",
        "        for num in range(self.n + 1):\n",
        "            if num % 7 == 0:\n",
        "                yield num\n",
        "divisible_nums = DivisibleBySeven(50)\n",
        "for num in divisible_nums.generate_divisible_by_seven():\n",
        "    print(num)"
      ]
    },
    {
      "cell_type": "markdown",
      "id": "d81910d9",
      "metadata": {
        "id": "d81910d9"
      },
      "source": [
        "Question 2:\n",
        "Write a program to compute the frequency of the words from the input. The output\n",
        "should output after sorting the key alphanumerically.\n",
        "Suppose the following input is supplied to the program:\n",
        "New to Python or choosing between Python 2 and Python 3? Read Python 2 or\n",
        "Python 3.\n",
        "Then, the output should be:\n",
        "2:2\n",
        "3.:1\n",
        "3?:1\n",
        "New:1\n",
        "Python:5\n",
        "Read:1\n",
        "and:1\n",
        "between:1\n",
        "choosing:1\n",
        "or:2\n",
        "to:1"
      ]
    },
    {
      "cell_type": "code",
      "execution_count": null,
      "id": "52e2bff9",
      "metadata": {
        "id": "52e2bff9",
        "outputId": "62f8c52f-b39a-4015-ac1a-03b3f9a024cd"
      },
      "outputs": [
        {
          "name": "stdout",
          "output_type": "stream",
          "text": [
            "2:2\n",
            "3.:1\n",
            "3?:1\n",
            "New:1\n",
            "Python:5\n",
            "Read:1\n",
            "and:1\n",
            "between:1\n",
            "choosing:1\n",
            "or:2\n",
            "to:1\n"
          ]
        }
      ],
      "source": [
        "from collections import Counter\n",
        "\n",
        "def count_word_frequency(input_string):\n",
        "    # Split the input string into words\n",
        "    words = input_string.split()\n",
        "\n",
        "    # Count the frequency of each word using Counter\n",
        "    word_counts = Counter(words)\n",
        "\n",
        "    # Sort the word counts alphabetically by keys\n",
        "    sorted_word_counts = sorted(word_counts.items())\n",
        "\n",
        "    # Print the word counts\n",
        "    for word, count in sorted_word_counts:\n",
        "        print(f\"{word}:{count}\")\n",
        "input_str = \"New to Python or choosing between Python 2 and Python 3? Read Python 2 or Python 3.\"\n",
        "count_word_frequency(input_str)"
      ]
    },
    {
      "cell_type": "markdown",
      "id": "2047eba5",
      "metadata": {
        "id": "2047eba5"
      },
      "source": [
        "Question 3:\n",
        "Define a class Person and its two child classes: Male and Female. All classes have a\n",
        "method &quot;getGender&quot; which can print &quot;Male&quot; for Male class and &quot;Female&quot; for Female\n",
        "class."
      ]
    },
    {
      "cell_type": "code",
      "execution_count": null,
      "id": "891f1dd5",
      "metadata": {
        "id": "891f1dd5"
      },
      "outputs": [],
      "source": [
        "class Person:\n",
        "    def getGender(self):\n",
        "        pass\n",
        "\n",
        "class Male(Person):\n",
        "    def getGender(self):\n",
        "        print(\"Male\")\n",
        "\n",
        "class Female(Person):\n",
        "    def getGender(self):\n",
        "        print(\"Female\")"
      ]
    },
    {
      "cell_type": "code",
      "execution_count": null,
      "id": "8fa457c7",
      "metadata": {
        "id": "8fa457c7",
        "outputId": "34d1f9fb-0022-4fd0-cf87-40d439d53698"
      },
      "outputs": [
        {
          "name": "stdout",
          "output_type": "stream",
          "text": [
            "Male\n",
            "Female\n"
          ]
        }
      ],
      "source": [
        "person1 = Male()\n",
        "person1.getGender()\n",
        "\n",
        "person2 = Female()\n",
        "person2.getGender()"
      ]
    },
    {
      "cell_type": "markdown",
      "id": "7d661b60",
      "metadata": {
        "id": "7d661b60"
      },
      "source": [
        "Question 4:\n",
        "Please write a program to generate all sentences where subject is in [&quot;I&quot;, &quot;You&quot;] and\n",
        "verb is in [&quot;Play&quot;, &quot;Love&quot;] and the object is in [&quot;Hockey&quot;,&quot;Football&quot;]."
      ]
    },
    {
      "cell_type": "code",
      "execution_count": null,
      "id": "73bd3a55",
      "metadata": {
        "id": "73bd3a55",
        "outputId": "1191855f-8f4c-4462-8bac-87c2c076a62b"
      },
      "outputs": [
        {
          "name": "stdout",
          "output_type": "stream",
          "text": [
            "I Play Hockey.\n",
            "I Play Football.\n",
            "I Love Hockey.\n",
            "I Love Football.\n",
            "You Play Hockey.\n",
            "You Play Football.\n",
            "You Love Hockey.\n",
            "You Love Football.\n"
          ]
        }
      ],
      "source": [
        "subjects = [\"I\", \"You\"]\n",
        "verbs = [\"Play\", \"Love\"]\n",
        "objects = [\"Hockey\", \"Football\"]\n",
        "\n",
        "for subject in subjects:\n",
        "    for verb in verbs:\n",
        "        for obj in objects:\n",
        "            sentence = f\"{subject} {verb} {obj}.\"\n",
        "            print(sentence)"
      ]
    },
    {
      "cell_type": "markdown",
      "id": "2a060e74",
      "metadata": {
        "id": "2a060e74"
      },
      "source": [
        "Question 5:\n",
        "Please write a program to compress and decompress the string &quot;hello world!hello\n",
        "world!hello world!hello world!&quot;"
      ]
    },
    {
      "cell_type": "code",
      "execution_count": null,
      "id": "add06b81",
      "metadata": {
        "id": "add06b81",
        "outputId": "04eda007-01e8-46ba-b2b3-60034b20edab"
      },
      "outputs": [
        {
          "name": "stdout",
          "output_type": "stream",
          "text": [
            "Compressed data: b'x\\x9c\\xcbH\\xcd\\xc9\\xc9W(\\xcf/\\xcaIQ\\xcc \\x82\\r\\x00\\xbd[\\x11\\xf5'\n",
            "Decompressed string: hello world!hello world!hello world!hello world!\n"
          ]
        }
      ],
      "source": [
        "import zlib\n",
        "\n",
        "string = \"hello world!hello world!hello world!hello world!\"\n",
        "\n",
        "# Compress the string\n",
        "compressed_data = zlib.compress(bytes(string, 'utf-8'))\n",
        "\n",
        "# Decompress the compressed data\n",
        "decompressed_data = zlib.decompress(compressed_data)\n",
        "\n",
        "# Convert decompressed data to string\n",
        "decompressed_string = decompressed_data.decode('utf-8')\n",
        "\n",
        "print(\"Compressed data:\", compressed_data)\n",
        "print(\"Decompressed string:\", decompressed_string)"
      ]
    },
    {
      "cell_type": "markdown",
      "id": "c65ce26e",
      "metadata": {
        "id": "c65ce26e"
      },
      "source": [
        "Question 6:\n",
        "Please write a binary search function which searches an item in a sorted list. The\n",
        "function should return the index of element to be searched in the list."
      ]
    },
    {
      "cell_type": "code",
      "execution_count": null,
      "id": "94202006",
      "metadata": {
        "id": "94202006"
      },
      "outputs": [],
      "source": [
        "def binary_search(arr, target):\n",
        "    left = 0\n",
        "    right = len(arr) - 1\n",
        "\n",
        "    while left <= right:\n",
        "        mid = (left + right) // 2\n",
        "\n",
        "        if arr[mid] == target:\n",
        "            return mid\n",
        "        elif arr[mid] < target:\n",
        "            left = mid + 1\n",
        "        else:\n",
        "            right = mid - 1\n",
        "\n",
        "    # Item not found\n",
        "    return -1"
      ]
    },
    {
      "cell_type": "code",
      "execution_count": null,
      "id": "81685679",
      "metadata": {
        "id": "81685679",
        "outputId": "f738f125-4e11-4bc8-c4ea-8d3ecc1c8fed"
      },
      "outputs": [
        {
          "name": "stdout",
          "output_type": "stream",
          "text": [
            "Index: 5\n"
          ]
        }
      ],
      "source": [
        "sorted_list = [2, 4, 6, 8, 10, 12, 14, 16, 18, 20]\n",
        "target = 12\n",
        "\n",
        "index = binary_search(sorted_list, target)\n",
        "print(\"Index:\", index)"
      ]
    },
    {
      "cell_type": "markdown",
      "source": [
        "## Thank You...!! - By Mr.Abhishek Sachin Dhondalkar"
      ],
      "metadata": {
        "id": "GXzH5ql6jK4h"
      },
      "id": "GXzH5ql6jK4h"
    }
  ],
  "metadata": {
    "kernelspec": {
      "display_name": "Python 3 (ipykernel)",
      "language": "python",
      "name": "python3"
    },
    "language_info": {
      "codemirror_mode": {
        "name": "ipython",
        "version": 3
      },
      "file_extension": ".py",
      "mimetype": "text/x-python",
      "name": "python",
      "nbconvert_exporter": "python",
      "pygments_lexer": "ipython3",
      "version": "3.9.13"
    },
    "colab": {
      "provenance": []
    }
  },
  "nbformat": 4,
  "nbformat_minor": 5
}