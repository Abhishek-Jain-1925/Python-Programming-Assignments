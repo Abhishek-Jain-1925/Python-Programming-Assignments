{
  "cells": [
    {
      "cell_type": "markdown",
      "source": [
        "#Python Assignment No. 03\n"
      ],
      "metadata": {
        "id": "YBc4pDK8H1QG"
      },
      "id": "YBc4pDK8H1QG"
    },
    {
      "cell_type": "markdown",
      "id": "a20aac6d",
      "metadata": {
        "id": "a20aac6d"
      },
      "source": [
        "### 1. Why are functions advantageous to have in your programs?"
      ]
    },
    {
      "cell_type": "markdown",
      "id": "2ffbd3e2",
      "metadata": {
        "id": "2ffbd3e2"
      },
      "source": [
        "Reusability: Functions allow you to reuse code instead of writing the same code multiple times in your program.This saves time and reduces the chances of introducing errors in the code.\n",
        "\n",
        "Modularity: Functions help to break down a large program into smaller, more manageable parts, making it easier to understand and maintain.\n",
        "\n",
        "Abstraction: Functions allow you to abstract away details of implementation and focus on the higher-level logic of your program. This makes the code easier to read and understand.\n",
        "\n",
        "Encapsulation: Functions allow you to encapsulate a set of instructions that perform a specific task. This can make your program more secure by limiting access to certain parts of the code.\n",
        "\n",
        "Testing: Functions can be tested independently of the rest of the program, making it easier to identify and fix bugs."
      ]
    },
    {
      "cell_type": "markdown",
      "id": "d3c51121",
      "metadata": {
        "id": "d3c51121"
      },
      "source": [
        "### 2. When does the code in a function run: when its specified or when its called?"
      ]
    },
    {
      "cell_type": "markdown",
      "id": "bd05dc5a",
      "metadata": {
        "id": "bd05dc5a"
      },
      "source": [
        "The code in a function runs when it is called, not when it is specified.\n",
        "\n",
        "When you define a function in a program, you are essentially creating a blueprint for a set of instructions that will be executed when the function is called. The code within the function body is not executed until the function is actually called by the program.\n",
        "\n",
        "Once the function is called, the program jumps to the first line of the function and executes each line of code in sequence until it reaches the end of the function or encounters a return statement. The result of the function (if any) is then returned to the point in the program where the function was called, and execution of the program continues from that point.\n",
        "\n",
        "So, in summary, the code in a function only runs when the function is called by the program, not when it is defined."
      ]
    },
    {
      "cell_type": "markdown",
      "id": "5ca95aa9",
      "metadata": {
        "id": "5ca95aa9"
      },
      "source": [
        "### 3. What statement creates a function?\n"
      ]
    },
    {
      "cell_type": "markdown",
      "id": "1dad6785",
      "metadata": {
        "id": "1dad6785"
      },
      "source": [
        "In Python, the \"def\" statement is used to create a function.\n",
        "\n",
        "The syntax for defining a function using the \"def\" statement is as follows:"
      ]
    },
    {
      "cell_type": "code",
      "execution_count": null,
      "id": "ab2710f2",
      "metadata": {
        "id": "ab2710f2"
      },
      "outputs": [],
      "source": [
        "def function_name(parameters):\n",
        "    # function body\n",
        "    # ...\n",
        "    return [expression]\n"
      ]
    },
    {
      "cell_type": "markdown",
      "id": "2cd43621",
      "metadata": {
        "id": "2cd43621"
      },
      "source": [
        "### 4. What is the difference between a function and a function call?"
      ]
    },
    {
      "cell_type": "markdown",
      "id": "87e66d2e",
      "metadata": {
        "id": "87e66d2e"
      },
      "source": [
        "A function and a function call are two distinct concepts in programming.\n",
        "\n",
        "A function is a block of code that performs a specific task, such as calculating a value, processing data, or printing output. Functions are defined using the \"def\" keyword in Python and contain a set of instructions that execute when the function is called.\n",
        "\n",
        "A function call, on the other hand, is a statement that invokes a function and passes in any required arguments. A function call executes the code within the function and returns any result that the function produces.\n",
        "\n",
        "In other words, a function defines the set of instructions that will be executed when it is called, while a function call is the act of actually invoking the function and executing those instructions with a specific set of input values.\n",
        "\n",
        "For example, consider the following function that takes two arguments and returns their sum:"
      ]
    },
    {
      "cell_type": "code",
      "execution_count": null,
      "id": "2d6793e7",
      "metadata": {
        "id": "2d6793e7"
      },
      "outputs": [],
      "source": [
        "def add_numbers(x, y):\n",
        "    result = x + y\n",
        "    return result\n"
      ]
    },
    {
      "cell_type": "code",
      "execution_count": null,
      "id": "a47deece",
      "metadata": {
        "id": "a47deece"
      },
      "outputs": [],
      "source": [
        "z = add_numbers(2, 3)\n"
      ]
    },
    {
      "cell_type": "markdown",
      "id": "114fa298",
      "metadata": {
        "id": "114fa298"
      },
      "source": [
        "This function call passes the values 2 and 3 as arguments to the \"add_numbers\" function, which then adds them together and returns the result (5) to the variable \"z\".\n",
        "\n",
        "So, in summary, a function is a block of code that performs a specific task, while a function call is a statement that invokes that function and passes in any required arguments."
      ]
    },
    {
      "cell_type": "markdown",
      "id": "7b8f9ad8",
      "metadata": {
        "id": "7b8f9ad8"
      },
      "source": [
        "### 5.How many global scopes are there in a Python program? How many local scopes?"
      ]
    },
    {
      "cell_type": "markdown",
      "id": "f0d5a1af",
      "metadata": {
        "id": "f0d5a1af"
      },
      "source": [
        "In Python, there is only one global scope per program, which is created when the program starts running.\n",
        "\n",
        "The global scope is the highest level of the program and contains all the variables and functions that are defined outside of any functions or classes. Any variable or function defined in the global scope can be accessed from anywhere in the program, including from within functions or classes.\n",
        "\n",
        "In addition to the global scope, there can be multiple local scopes in a Python program, which are created whenever a function or a class is defined. Each function or class defines its own local scope, which contains all the variables and functions that are defined within that function or class.\n",
        "\n",
        "Variables defined within a local scope are only accessible within that scope, and are destroyed when the function or class is exited. This means that variables with the same name can be used in different functions or classes without interfering with each other.\n",
        "\n",
        "It's important to note that variables defined in a function or class can still access variables from the global scope if they are declared as global. Similarly, variables defined in the global scope can be accessed from within a function or class if they are declared as nonlocal.\n",
        "\n",
        "So, to summarize, there is one global scope per Python program, and there can be multiple local scopes created whenever a function or class is defined."
      ]
    },
    {
      "cell_type": "markdown",
      "id": "dbc51fd0",
      "metadata": {
        "id": "dbc51fd0"
      },
      "source": [
        "### 6. What happens to variables in a local scope when the function call returns?"
      ]
    },
    {
      "cell_type": "raw",
      "id": "bccb11c8",
      "metadata": {
        "id": "bccb11c8"
      },
      "source": [
        "When a function call returns, the local scope that was created for that function is destroyed, along with all the variables and objects that were defined within it.\n",
        "\n",
        "This means that any variables that were defined within the function are no longer accessible from outside the function, and any changes made to those variables within the function are lost.\n",
        "\n",
        "For example, consider the following function"
      ]
    },
    {
      "cell_type": "code",
      "execution_count": null,
      "id": "ff4a4dbd",
      "metadata": {
        "id": "ff4a4dbd"
      },
      "outputs": [],
      "source": [
        "def add_numbers(x, y):\n",
        "    result = x + y\n",
        "    return result\n"
      ]
    },
    {
      "cell_type": "markdown",
      "id": "00f416b5",
      "metadata": {
        "id": "00f416b5"
      },
      "source": [
        "When this function is called with the arguments 2 and 3, a local scope is created that contains the variables \"x\", \"y\", and \"result\". Once the function returns and the local scope is destroyed, these variables are no longer accessible from outside the function.So, if we were to call the function and then try to access the variable \"result\" outside of the function, we would get a NameError, as follows:"
      ]
    },
    {
      "cell_type": "code",
      "execution_count": null,
      "id": "59673562",
      "metadata": {
        "scrolled": true,
        "id": "59673562",
        "outputId": "53162466-a7ca-4fae-f924-c9808e71e216"
      },
      "outputs": [
        {
          "ename": "NameError",
          "evalue": "name 'result' is not defined",
          "output_type": "error",
          "traceback": [
            "\u001b[1;31m---------------------------------------------------------------------------\u001b[0m",
            "\u001b[1;31mNameError\u001b[0m                                 Traceback (most recent call last)",
            "\u001b[1;32mC:\\conda_tmp\\ipykernel_16624\\4006944180.py\u001b[0m in \u001b[0;36m<module>\u001b[1;34m\u001b[0m\n\u001b[0;32m      1\u001b[0m \u001b[0mz\u001b[0m \u001b[1;33m=\u001b[0m \u001b[0madd_numbers\u001b[0m\u001b[1;33m(\u001b[0m\u001b[1;36m2\u001b[0m\u001b[1;33m,\u001b[0m \u001b[1;36m3\u001b[0m\u001b[1;33m)\u001b[0m\u001b[1;33m\u001b[0m\u001b[1;33m\u001b[0m\u001b[0m\n\u001b[1;32m----> 2\u001b[1;33m \u001b[0mprint\u001b[0m\u001b[1;33m(\u001b[0m\u001b[0mresult\u001b[0m\u001b[1;33m)\u001b[0m  \u001b[1;31m# NameError: name 'result' is not defined\u001b[0m\u001b[1;33m\u001b[0m\u001b[1;33m\u001b[0m\u001b[0m\n\u001b[0m",
            "\u001b[1;31mNameError\u001b[0m: name 'result' is not defined"
          ]
        }
      ],
      "source": [
        "z = add_numbers(2, 3)\n",
        "print(result) "
      ]
    },
    {
      "cell_type": "markdown",
      "id": "2d9b0b05",
      "metadata": {
        "id": "2d9b0b05"
      },
      "source": [
        "#### NameError: name 'result' is not defined\n",
        "This is because the variable \"result\" only existed within the local scope of the \"add_numbers\" function, and was destroyed when the function returned.\n",
        "\n",
        "In summary, variables defined within a local scope are destroyed when the function call returns, and are no longer accessible from outside the function."
      ]
    },
    {
      "cell_type": "markdown",
      "id": "56a76e2c",
      "metadata": {
        "id": "56a76e2c"
      },
      "source": [
        "### 7. What is the concept of a return value? Is it possible to have a return value in an expression?"
      ]
    },
    {
      "cell_type": "raw",
      "id": "d933f142",
      "metadata": {
        "id": "d933f142"
      },
      "source": [
        "n programming, a return value is the value that a function sends back to the code that called it. When a function is called, it performs its operations and can optionally return a value to the calling code. The return value can be a simple value like a number or a string, or it can be a more complex object like a list or a dictionary.\n",
        "\n",
        "The concept of a return value is important because it allows functions to be used in larger programs and integrated with other code. By returning a value, a function can provide information or data to other parts of the program, which can then use that information to perform additional operations or make decisions.\n",
        "\n",
        "It is possible to have a return value in an expression. In fact, this is a common way to use functions in Python. For example, consider the following function that calculates the square of a number:"
      ]
    },
    {
      "cell_type": "code",
      "execution_count": null,
      "id": "3f6ddc5f",
      "metadata": {
        "id": "3f6ddc5f"
      },
      "outputs": [],
      "source": [
        "def square(x):\n",
        "    return x ** 2\n"
      ]
    },
    {
      "cell_type": "code",
      "execution_count": null,
      "id": "3e77e6e4",
      "metadata": {
        "id": "3e77e6e4"
      },
      "outputs": [],
      "source": [
        "#We can use this function in an expression like this:\n",
        "result = square(3) + square(4)"
      ]
    },
    {
      "cell_type": "raw",
      "id": "b18b7e03",
      "metadata": {
        "id": "b18b7e03"
      },
      "source": [
        "In this expression, the \"square\" function is called twice, once with the argument 3 and once with the argument 4. The return values from these function calls are then added together to produce the final value of the \"result\" variable.\n",
        "\n",
        "So, in summary, a return value is the value that a function sends back to the code that called it, and it is possible to have a return value in an expression."
      ]
    },
    {
      "cell_type": "markdown",
      "id": "a9eb5d11",
      "metadata": {
        "id": "a9eb5d11"
      },
      "source": [
        "### 8. If a function does not have a return statement, what is the return value of a call to that function?"
      ]
    },
    {
      "cell_type": "code",
      "execution_count": null,
      "id": "17827440",
      "metadata": {
        "id": "17827440"
      },
      "outputs": [],
      "source": [
        "If a function does not have a return statement, then the return value of a call to that function is None.\n",
        "\n",
        "In Python, a function without an explicit return statement still returns a value, which is None by default. This means that if you call a function that does not have a return statement and you try to assign the result to a variable, that variable will contain the value None.\n",
        "\n",
        "For example, consider the following function that just prints out a message:"
      ]
    },
    {
      "cell_type": "code",
      "execution_count": null,
      "id": "71fef419",
      "metadata": {
        "id": "71fef419"
      },
      "outputs": [],
      "source": [
        "def print_message(message):\n",
        "    print(message)\n"
      ]
    },
    {
      "cell_type": "code",
      "execution_count": null,
      "id": "2015b0bd",
      "metadata": {
        "id": "2015b0bd",
        "outputId": "03d2980d-d361-4840-ac77-f6dbe3845b92"
      },
      "outputs": [
        {
          "name": "stdout",
          "output_type": "stream",
          "text": [
            "Hello, world!\n"
          ]
        }
      ],
      "source": [
        "# If we call this function and try to assign the result to a variable, like this:\n",
        "\n",
        "result = print_message(\"Hello, world!\")"
      ]
    },
    {
      "cell_type": "markdown",
      "id": "a4ed1817",
      "metadata": {
        "id": "a4ed1817"
      },
      "source": [
        "The variable result will contain the value None, because the print_message function does not have a return statement.\n",
        "\n",
        "It's important to note that although the function does not explicitly return a value, it can still have side effects, such as printing output or modifying variables outside of the function."
      ]
    },
    {
      "cell_type": "markdown",
      "id": "8e7917a1",
      "metadata": {
        "id": "8e7917a1"
      },
      "source": [
        "### 9.How do you make a function variable refer to the global variable?"
      ]
    },
    {
      "cell_type": "markdown",
      "id": "4d5fdde3",
      "metadata": {
        "id": "4d5fdde3"
      },
      "source": [
        "In Python, to make a function variable refer to a global variable with the same name, you can use the global keyword inside the function.\n",
        "\n",
        "The global keyword tells Python that a variable is a global variable, which means that it should be accessed and modified from anywhere in the program, including inside functions."
      ]
    },
    {
      "cell_type": "code",
      "execution_count": null,
      "id": "7f662eea",
      "metadata": {
        "id": "7f662eea",
        "outputId": "1f747943-7ae9-41fb-cb8a-32314c35c010"
      },
      "outputs": [
        {
          "name": "stdout",
          "output_type": "stream",
          "text": [
            "Inside the function, x = 5\n",
            "Outside the function, x = 5\n"
          ]
        }
      ],
      "source": [
        "x = 10\n",
        "\n",
        "def my_function():\n",
        "    global x\n",
        "    x = 5\n",
        "    print(\"Inside the function, x =\", x)\n",
        "\n",
        "my_function()\n",
        "print(\"Outside the function, x =\", x)\n"
      ]
    },
    {
      "cell_type": "markdown",
      "id": "4903b56e",
      "metadata": {
        "id": "4903b56e"
      },
      "source": [
        "### 10. What is the data type of None?"
      ]
    },
    {
      "cell_type": "markdown",
      "id": "4e96c147",
      "metadata": {
        "id": "4e96c147"
      },
      "source": [
        "In Python, None is a special constant that represents the absence of a value. It is often used to indicate that a variable or expression does not have a value.\n",
        "\n",
        "None is of the data type NoneType. This means that it is not a number, string, or any other type of value that can be used in a mathematical or logical expression. None is a singleton object, which means that there is only one instance of it in memory.\n",
        "\n",
        "Here's an example of how to check the data type of None using the type() function:"
      ]
    },
    {
      "cell_type": "code",
      "execution_count": null,
      "id": "be3d4bee",
      "metadata": {
        "id": "be3d4bee",
        "outputId": "0709201e-ee7e-4f99-9de9-d3fae6da9d28"
      },
      "outputs": [
        {
          "name": "stdout",
          "output_type": "stream",
          "text": [
            "<class 'NoneType'>\n"
          ]
        }
      ],
      "source": [
        "x = None\n",
        "print(type(x)) "
      ]
    },
    {
      "cell_type": "markdown",
      "id": "b5b531ad",
      "metadata": {
        "id": "b5b531ad"
      },
      "source": [
        "In this example, we define a variable x and assign it the value None. We then use the type() function to check the data type of x, which is NoneType."
      ]
    },
    {
      "cell_type": "markdown",
      "id": "a4f960c1",
      "metadata": {
        "id": "a4f960c1"
      },
      "source": [
        "### 12. If you had a bacon() feature in a spam module, what would you call it after importing spam?"
      ]
    },
    {
      "cell_type": "markdown",
      "id": "c171aec6",
      "metadata": {
        "id": "c171aec6"
      },
      "source": [
        "If you had a bacon() function in a spam module, after importing the spam module you would call the bacon() function using the dot notation like this: spam.bacon().\n",
        "\n",
        "The dot notation is used to access functions and variables that are defined inside a module. In this case, the bacon() function is defined inside the spam module, so we use the dot notation to access it.\n",
        "\n"
      ]
    },
    {
      "cell_type": "markdown",
      "id": "eeab03a0",
      "metadata": {
        "id": "eeab03a0"
      },
      "source": [
        "### 13. What can you do to save a programme from crashing if it encounters an error?"
      ]
    },
    {
      "cell_type": "markdown",
      "id": "14869b58",
      "metadata": {
        "id": "14869b58"
      },
      "source": [
        "To save a program from crashing if it encounters an error, you can use error handling techniques. In Python, you can handle errors using the try and except statements.\n",
        "\n",
        "Here's an example of how to use a try and except block to handle errors:"
      ]
    },
    {
      "cell_type": "code",
      "execution_count": null,
      "id": "0805c2d0",
      "metadata": {
        "id": "0805c2d0",
        "outputId": "ac256ecb-01dc-4d23-bcaf-dfb13ed6cdaa"
      },
      "outputs": [
        {
          "name": "stdout",
          "output_type": "stream",
          "text": [
            "An error occurred\n"
          ]
        }
      ],
      "source": [
        "try:\n",
        "    # code that might cause an error\n",
        "    x = 10 / 0\n",
        "except:\n",
        "    # code to handle the error\n",
        "    print(\"An error occurred\")\n"
      ]
    },
    {
      "cell_type": "markdown",
      "id": "e3d97cd9",
      "metadata": {
        "id": "e3d97cd9"
      },
      "source": [
        "In this example, we first put the code that might cause an error inside the try block. In this case, we're trying to divide the number 10 by 0, which will cause a ZeroDivisionError.\n",
        "\n",
        "If an error occurs inside the try block, the code inside the except block will be executed. In this example, we simply print out a message saying that an error occurred. You can replace this code with whatever error-handling code you need to handle the specific error that occurred.\n",
        "\n",
        "By using the try and except statements, you can prevent your program from crashing if it encounters an error. Instead, it will gracefully handle the error and continue running the rest of the program."
      ]
    },
    {
      "cell_type": "markdown",
      "id": "222f2baa",
      "metadata": {
        "id": "222f2baa"
      },
      "source": [
        "### 14. What is the purpose of the try clause? What is the purpose of the except clause?\n"
      ]
    },
    {
      "cell_type": "markdown",
      "id": "7521760e",
      "metadata": {
        "id": "7521760e"
      },
      "source": [
        "The try and except clauses are used in Python for error handling.\n",
        "\n",
        "The purpose of the try clause is to contain the code that might raise an exception (an error). If an exception is raised while executing the code inside the try block, the interpreter will stop executing that block and jump to the except block.\n",
        "\n",
        "The purpose of the except clause is to define what happens when an exception is raised inside the try block. You can use the except block to catch specific exceptions and execute code that handles them appropriately. If there is no except block, the interpreter will print the default error message and exit the program."
      ]
    },
    {
      "cell_type": "code",
      "execution_count": null,
      "id": "3b469c10",
      "metadata": {
        "id": "3b469c10",
        "outputId": "e453b7fa-b507-48e3-fc7d-8df6a8be07e0"
      },
      "outputs": [
        {
          "name": "stdout",
          "output_type": "stream",
          "text": [
            "Cannot divide by zero\n"
          ]
        }
      ],
      "source": [
        "try:\n",
        "    # code that might cause an error\n",
        "    x = 10 / 0\n",
        "except ZeroDivisionError:\n",
        "    # code to handle the error\n",
        "    print(\"Cannot divide by zero\")\n"
      ]
    },
    {
      "cell_type": "markdown",
      "id": "98d24a78",
      "metadata": {
        "id": "98d24a78"
      },
      "source": [
        "In this example, we're trying to divide the number 10 by 0, which will cause a ZeroDivisionError. We put this code inside the try block.\n",
        "\n",
        "In the except block, we catch the ZeroDivisionError exception and print a message saying that we cannot divide by zero. This way, even though an error occurred, our program doesn't crash and we can continue executing the rest of the code."
      ]
    },
    {
      "cell_type": "markdown",
      "source": [
        "##Thank You...!! -By Mr.Abhishek Sachin Dhondalkar"
      ],
      "metadata": {
        "id": "CexAmihbIC31"
      },
      "id": "CexAmihbIC31"
    }
  ],
  "metadata": {
    "kernelspec": {
      "display_name": "Python 3 (ipykernel)",
      "language": "python",
      "name": "python3"
    },
    "language_info": {
      "codemirror_mode": {
        "name": "ipython",
        "version": 3
      },
      "file_extension": ".py",
      "mimetype": "text/x-python",
      "name": "python",
      "nbconvert_exporter": "python",
      "pygments_lexer": "ipython3",
      "version": "3.9.13"
    },
    "colab": {
      "provenance": []
    }
  },
  "nbformat": 4,
  "nbformat_minor": 5
}