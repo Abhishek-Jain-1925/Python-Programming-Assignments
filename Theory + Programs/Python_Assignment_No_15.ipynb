{
  "cells": [
    {
      "cell_type": "markdown",
      "id": "bee1bf38",
      "metadata": {
        "id": "bee1bf38"
      },
      "source": [
        "## Python Assignment No. 15"
      ]
    },
    {
      "cell_type": "markdown",
      "id": "f96c9b0b",
      "metadata": {
        "id": "f96c9b0b"
      },
      "source": [
        "### 1.How many seconds are in an hour? Use the interactive interpreter as a calculator and multiply thenumber of seconds in a minute (60) by the number of minutes in an hour (also 60).sol. 60"
      ]
    },
    {
      "cell_type": "code",
      "execution_count": null,
      "id": "d97daf52",
      "metadata": {
        "id": "d97daf52",
        "outputId": "c3f7760b-9cc0-4ad0-9812-2b458d876524"
      },
      "outputs": [
        {
          "name": "stdout",
          "output_type": "stream",
          "text": [
            "3600\n"
          ]
        }
      ],
      "source": [
        "seconds_in_minute = 60\n",
        "minutes_in_hour = 60\n",
        "\n",
        "seconds_in_hour = seconds_in_minute * minutes_in_hour\n",
        "print(seconds_in_hour)\n"
      ]
    },
    {
      "cell_type": "markdown",
      "id": "4f1cab1f",
      "metadata": {
        "id": "4f1cab1f"
      },
      "source": [
        "### 2. Assign the result from the previous task (seconds in an hour) to a variable called seconds_per_hour."
      ]
    },
    {
      "cell_type": "code",
      "execution_count": null,
      "id": "63937160",
      "metadata": {
        "id": "63937160",
        "outputId": "c7a4fea4-263b-4c36-d14d-d479e83ce3c9"
      },
      "outputs": [
        {
          "name": "stdout",
          "output_type": "stream",
          "text": [
            "3600\n"
          ]
        }
      ],
      "source": [
        "seconds_in_minute = 60\n",
        "minutes_in_hour = 60\n",
        "\n",
        "seconds_per_hour = seconds_in_minute * minutes_in_hour\n",
        "print(seconds_per_hour)\n"
      ]
    },
    {
      "cell_type": "markdown",
      "id": "dfd4122e",
      "metadata": {
        "id": "dfd4122e"
      },
      "source": [
        "The value 3600 is stored in the variable seconds_per_hour."
      ]
    },
    {
      "cell_type": "markdown",
      "id": "f2506adf",
      "metadata": {
        "id": "f2506adf"
      },
      "source": [
        "### 3. How many seconds do you think there are in a day? Make use of the variables seconds per hour and minutes per hour."
      ]
    },
    {
      "cell_type": "code",
      "execution_count": null,
      "id": "949450ab",
      "metadata": {
        "id": "949450ab",
        "outputId": "ac53b01c-ec49-4328-875d-1041b2dd32ed"
      },
      "outputs": [
        {
          "name": "stdout",
          "output_type": "stream",
          "text": [
            "86400\n"
          ]
        }
      ],
      "source": [
        "seconds_per_hour = 60 * 60\n",
        "hours_per_day = 24\n",
        "\n",
        "seconds_per_day = seconds_per_hour * hours_per_day\n",
        "print(seconds_per_day)\n"
      ]
    },
    {
      "cell_type": "markdown",
      "id": "e4ac6ed9",
      "metadata": {
        "id": "e4ac6ed9"
      },
      "source": [
        "There are 86,400 seconds in a day."
      ]
    },
    {
      "cell_type": "markdown",
      "id": "d5fa6381",
      "metadata": {
        "id": "d5fa6381"
      },
      "source": [
        "### 4. Calculate seconds per day again, but this time save the result in a variable called seconds_per_day"
      ]
    },
    {
      "cell_type": "code",
      "execution_count": null,
      "id": "20febc99",
      "metadata": {
        "id": "20febc99",
        "outputId": "0a74270e-3cf4-4f9f-8451-1e070cf4b414"
      },
      "outputs": [
        {
          "name": "stdout",
          "output_type": "stream",
          "text": [
            "86400\n"
          ]
        }
      ],
      "source": [
        "seconds_per_hour = 60 * 60\n",
        "hours_per_day = 24\n",
        "\n",
        "seconds_per_day = seconds_per_hour * hours_per_day\n",
        "print(seconds_per_day)\n"
      ]
    },
    {
      "cell_type": "markdown",
      "id": "86b094ac",
      "metadata": {
        "id": "86b094ac"
      },
      "source": [
        "Now,the value 86400 is stored in the variable seconds_per_day"
      ]
    },
    {
      "cell_type": "markdown",
      "id": "41a6d917",
      "metadata": {
        "id": "41a6d917"
      },
      "source": [
        "### 5. Divide seconds_per_day by seconds_per_hour. Use floating-point (/) division."
      ]
    },
    {
      "cell_type": "code",
      "execution_count": null,
      "id": "ad31097f",
      "metadata": {
        "id": "ad31097f",
        "outputId": "26da606b-09f9-43b0-d689-e0cceb4eea3b"
      },
      "outputs": [
        {
          "name": "stdout",
          "output_type": "stream",
          "text": [
            "24.0\n"
          ]
        }
      ],
      "source": [
        "seconds_per_hour = 60 * 60\n",
        "hours_per_day = 24\n",
        "seconds_per_day = seconds_per_hour * hours_per_day\n",
        "\n",
        "result = seconds_per_day / seconds_per_hour\n",
        "print(result)\n"
      ]
    },
    {
      "cell_type": "markdown",
      "id": "815ae747",
      "metadata": {
        "id": "815ae747"
      },
      "source": [
        "### 6. Divide seconds_per_day by seconds_per_hour, using integer (//) division. Did this number agree with the floating-point value from the previous question, aside from the final .0?"
      ]
    },
    {
      "cell_type": "code",
      "execution_count": null,
      "id": "fdc1658e",
      "metadata": {
        "id": "fdc1658e",
        "outputId": "d45df150-00e0-46c4-87e9-213b23ca5f07"
      },
      "outputs": [
        {
          "name": "stdout",
          "output_type": "stream",
          "text": [
            "24\n"
          ]
        }
      ],
      "source": [
        "seconds_per_hour = 60 * 60\n",
        "hours_per_day = 24\n",
        "seconds_per_day = seconds_per_hour * hours_per_day\n",
        "\n",
        "result = seconds_per_day // seconds_per_hour\n",
        "print(result)\n"
      ]
    },
    {
      "cell_type": "markdown",
      "id": "ae4017da",
      "metadata": {
        "id": "ae4017da"
      },
      "source": [
        "### 7. Write a generator, genPrimes, that returns the sequence of prime numbers on successive calls to its next() method: 2, 3, 5, 7, 11, ..."
      ]
    },
    {
      "cell_type": "code",
      "execution_count": null,
      "id": "2ad8e93a",
      "metadata": {
        "id": "2ad8e93a",
        "outputId": "25c817d5-9f3e-407d-f5d4-12ef544fa58b"
      },
      "outputs": [
        {
          "name": "stdout",
          "output_type": "stream",
          "text": [
            "2\n",
            "3\n",
            "5\n",
            "7\n",
            "11\n"
          ]
        }
      ],
      "source": [
        "def genPrimes():\n",
        "    primes = []  # List to store prime numbers\n",
        "    num = 2     # Start with the first prime number\n",
        "\n",
        "    while True:\n",
        "        if all(num % p != 0 for p in primes):\n",
        "            primes.append(num)\n",
        "            yield num  # Yield the current prime number\n",
        "        num += 1\n",
        "\n",
        "# Create an instance of the generator\n",
        "prime_generator = genPrimes()\n",
        "\n",
        "# Test the generator by printing the first few prime numbers\n",
        "print(next(prime_generator))  # Output: 2\n",
        "print(next(prime_generator))  # Output: 3\n",
        "print(next(prime_generator))  # Output: 5\n",
        "print(next(prime_generator))  # Output: 7\n",
        "print(next(prime_generator))  # Output: 11\n"
      ]
    },
    {
      "cell_type": "markdown",
      "id": "ea82e5b9",
      "metadata": {
        "id": "ea82e5b9"
      },
      "source": [
        "The genPrimes function uses a while loop to iterate indefinitely. \n",
        "\n",
        "It checks if a number num is prime by verifying that it is not divisible by any previously found prime numbers in the primes list. "
      ]
    },
    {
      "cell_type": "markdown",
      "source": [
        "## Thank You...!! -By Mr.Abhishek Sachin Dhondalkar"
      ],
      "metadata": {
        "id": "6D0YgnPgRzlf"
      },
      "id": "6D0YgnPgRzlf"
    }
  ],
  "metadata": {
    "kernelspec": {
      "display_name": "Python 3 (ipykernel)",
      "language": "python",
      "name": "python3"
    },
    "language_info": {
      "codemirror_mode": {
        "name": "ipython",
        "version": 3
      },
      "file_extension": ".py",
      "mimetype": "text/x-python",
      "name": "python",
      "nbconvert_exporter": "python",
      "pygments_lexer": "ipython3",
      "version": "3.9.13"
    },
    "colab": {
      "provenance": []
    }
  },
  "nbformat": 4,
  "nbformat_minor": 5
}