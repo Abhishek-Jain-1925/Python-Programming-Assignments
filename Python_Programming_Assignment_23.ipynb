{
  "cells": [
    {
      "cell_type": "markdown",
      "id": "2c22c5a3",
      "metadata": {
        "id": "2c22c5a3"
      },
      "source": [
        "## Python Programming Assignment 23"
      ]
    },
    {
      "cell_type": "markdown",
      "id": "57ef27ad",
      "metadata": {
        "id": "57ef27ad"
      },
      "source": [
        "Question 1\n",
        "Create a function that takes a number as an argument and returns True or False depending\n",
        "on whether the number is symmetrical or not. A number is symmetrical when it is the same as\n",
        "its reverse.\n",
        "Examples\n",
        "is_symmetrical(7227) ➞ True\n",
        "is_symmetrical(12567) ➞ False\n",
        "is_symmetrical(44444444) ➞ True\n",
        "is_symmetrical(9939) ➞ False\n",
        "is_symmetrical(1112111) ➞ True"
      ]
    },
    {
      "cell_type": "code",
      "execution_count": null,
      "id": "6d619fe6",
      "metadata": {
        "id": "6d619fe6"
      },
      "outputs": [],
      "source": [
        "def is_symmetrical(num):\n",
        "    return str(num) == str(num)[::-1]"
      ]
    },
    {
      "cell_type": "code",
      "execution_count": null,
      "id": "39c2b420",
      "metadata": {
        "id": "39c2b420",
        "outputId": "b6a477ba-5faf-40a9-d37c-71000befdd97"
      },
      "outputs": [
        {
          "name": "stdout",
          "output_type": "stream",
          "text": [
            "True\n"
          ]
        }
      ],
      "source": [
        "print(is_symmetrical(7227))"
      ]
    },
    {
      "cell_type": "markdown",
      "id": "557a64dc",
      "metadata": {
        "id": "557a64dc"
      },
      "source": [
        "Question 2\n",
        "Given a string of numbers separated by a comma and space, return the product of the\n",
        "numbers."
      ]
    },
    {
      "cell_type": "code",
      "execution_count": null,
      "id": "be8425be",
      "metadata": {
        "id": "be8425be"
      },
      "outputs": [],
      "source": [
        "def multiply_nums(nums):\n",
        "    num_list = [int(num) for num in nums.split(\", \")]\n",
        "    product = 1\n",
        "    for num in num_list:\n",
        "        product *= num\n",
        "    return product"
      ]
    },
    {
      "cell_type": "code",
      "execution_count": null,
      "id": "06c3fb02",
      "metadata": {
        "id": "06c3fb02",
        "outputId": "699baca0-b99d-43e2-dc3a-07c65d994f8b"
      },
      "outputs": [
        {
          "name": "stdout",
          "output_type": "stream",
          "text": [
            "6\n"
          ]
        }
      ],
      "source": [
        "print(multiply_nums(\"2, 3\"))  "
      ]
    },
    {
      "cell_type": "markdown",
      "id": "20733957",
      "metadata": {
        "id": "20733957"
      },
      "source": [
        "Question 3\n",
        "Create a function that squares every digit of a number.\n",
        "Examples\n",
        "square_digits(9119) ➞ 811181\n",
        "square_digits(2483) ➞ 416649\n",
        "square_digits(3212) ➞ 9414\n",
        "Notes\n",
        "The function receives an integer and must return an integer."
      ]
    },
    {
      "cell_type": "code",
      "execution_count": null,
      "id": "13297dcc",
      "metadata": {
        "id": "13297dcc"
      },
      "outputs": [],
      "source": [
        "def square_digits(num):\n",
        "    result = \"\"\n",
        "    for digit in str(num):\n",
        "        squared_digit = str(int(digit) ** 2)\n",
        "        result += squared_digit\n",
        "    return int(result)"
      ]
    },
    {
      "cell_type": "code",
      "execution_count": null,
      "id": "0455fc9f",
      "metadata": {
        "id": "0455fc9f",
        "outputId": "e5a8fd43-6b7c-4d4c-ed99-c3924288232b"
      },
      "outputs": [
        {
          "name": "stdout",
          "output_type": "stream",
          "text": [
            "811181\n"
          ]
        }
      ],
      "source": [
        "print(square_digits(9119))"
      ]
    },
    {
      "cell_type": "markdown",
      "id": "54a2664b",
      "metadata": {
        "id": "54a2664b"
      },
      "source": [
        "Question 4\n",
        "Create a function that sorts a list and removes all duplicate items from it.\n",
        "Examples\n",
        "setify([1, 3, 3, 5, 5]) ➞ [1, 3, 5]\n",
        "setify([4, 4, 4, 4]) ➞ [4]\n",
        "setify([5, 7, 8, 9, 10, 15]) ➞ [5, 7, 8, 9, 10, 15]\n",
        "setify([3, 3, 3, 2, 1]) ➞ [1, 2, 3]"
      ]
    },
    {
      "cell_type": "code",
      "execution_count": null,
      "id": "28f7985d",
      "metadata": {
        "id": "28f7985d"
      },
      "outputs": [],
      "source": [
        "def setify(lst):\n",
        "    sorted_lst = sorted(lst)\n",
        "    result = []\n",
        "    for item in sorted_lst:\n",
        "        if item not in result:\n",
        "            result.append(item)\n",
        "    return result"
      ]
    },
    {
      "cell_type": "code",
      "execution_count": null,
      "id": "c270f44c",
      "metadata": {
        "id": "c270f44c",
        "outputId": "aa3f11a5-1b32-4410-c565-bd1a20b41e28"
      },
      "outputs": [
        {
          "name": "stdout",
          "output_type": "stream",
          "text": [
            "[1, 3, 5]\n"
          ]
        }
      ],
      "source": [
        "print(setify([1, 3, 3, 5, 5])) "
      ]
    },
    {
      "cell_type": "markdown",
      "id": "bceb9d71",
      "metadata": {
        "id": "bceb9d71"
      },
      "source": [
        "Question 5\n",
        "Create a function that returns the mean of all digits.\n",
        "Examples\n",
        "mean(42) ➞ 3\n",
        "mean(12345) ➞ 3\n",
        "mean(666) ➞ 6\n",
        "Notes\n",
        "The mean of all digits is the sum of digits / how many digits there are (e.g. mean of digits in\n",
        "512 is (5+1+2)/3(number of digits) = 8/3=2).\n",
        "The mean will always be an integer."
      ]
    },
    {
      "cell_type": "code",
      "execution_count": null,
      "id": "9f52815a",
      "metadata": {
        "id": "9f52815a"
      },
      "outputs": [],
      "source": [
        "def mean(num):\n",
        "    digits = [int(digit) for digit in str(num)]\n",
        "    mean_value = sum(digits) // len(digits)\n",
        "    return mean_value"
      ]
    },
    {
      "cell_type": "code",
      "execution_count": null,
      "id": "81e3a706",
      "metadata": {
        "id": "81e3a706",
        "outputId": "fd723c22-0bcb-4552-ecca-9b4fb3df1bf6"
      },
      "outputs": [
        {
          "name": "stdout",
          "output_type": "stream",
          "text": [
            "3\n"
          ]
        }
      ],
      "source": [
        "print(mean(42))"
      ]
    },
    {
      "cell_type": "markdown",
      "source": [
        "## Thank You...!! - By Mr.Abhishek Sachin Dhondalkar"
      ],
      "metadata": {
        "id": "ZXCE45P1k78i"
      },
      "id": "ZXCE45P1k78i"
    }
  ],
  "metadata": {
    "kernelspec": {
      "display_name": "Python 3 (ipykernel)",
      "language": "python",
      "name": "python3"
    },
    "language_info": {
      "codemirror_mode": {
        "name": "ipython",
        "version": 3
      },
      "file_extension": ".py",
      "mimetype": "text/x-python",
      "name": "python",
      "nbconvert_exporter": "python",
      "pygments_lexer": "ipython3",
      "version": "3.9.13"
    },
    "colab": {
      "provenance": []
    }
  },
  "nbformat": 4,
  "nbformat_minor": 5
}