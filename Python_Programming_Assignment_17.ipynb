{
  "cells": [
    {
      "cell_type": "markdown",
      "id": "c06f5949",
      "metadata": {
        "id": "c06f5949"
      },
      "source": [
        "## Python Programming Assignment 17"
      ]
    },
    {
      "cell_type": "markdown",
      "id": "3da127ee",
      "metadata": {
        "id": "3da127ee"
      },
      "source": [
        "Question1. Create a function that takes three arguments a, b, c and returns the sum of the\n",
        "numbers that are evenly divided by c from the range a, b inclusive.\n",
        "Examples\n",
        "evenly_divisible(1, 10, 20) ➞ 0\n",
        "No number between 1 and 10 can be evenly divided by 20.\n",
        "evenly_divisible(1, 10, 2) ➞ 30\n",
        "2 + 4 + 6 + 8 + 10 = 30\n",
        "evenly_divisible(1, 10, 3) ➞ 18\n",
        "3 + 6 + 9 = 18"
      ]
    },
    {
      "cell_type": "code",
      "execution_count": null,
      "id": "d0c3ad2d",
      "metadata": {
        "id": "d0c3ad2d"
      },
      "outputs": [],
      "source": [
        "def evenly_divisible(a, b, c):\n",
        "    sum_divisible = 0\n",
        "    for num in range(a, b + 1):\n",
        "        if num % c == 0:\n",
        "            sum_divisible += num\n",
        "    return sum_divisible"
      ]
    },
    {
      "cell_type": "code",
      "execution_count": null,
      "id": "4f14e9e4",
      "metadata": {
        "id": "4f14e9e4",
        "outputId": "28c532a2-9476-4a14-c2ba-0b223dc3c131"
      },
      "outputs": [
        {
          "name": "stdout",
          "output_type": "stream",
          "text": [
            "0\n",
            "30\n",
            "18\n"
          ]
        }
      ],
      "source": [
        "print(evenly_divisible(1, 10, 20))  # Output: 0\n",
        "print(evenly_divisible(1, 10, 2))   # Output: 30\n",
        "print(evenly_divisible(1, 10, 3))   # Output: 18"
      ]
    },
    {
      "cell_type": "markdown",
      "id": "4ba23595",
      "metadata": {
        "id": "4ba23595"
      },
      "source": [
        "Question2. Create a function that returns True if a given inequality expression is correct and\n",
        "False otherwise.\n",
        "Examples\n",
        "correct_signs(\"3 < 7 < 11\") ➞ True\n",
        "correct_signs(\"13 > 44 > 33 > 1\") ➞ False\n",
        "correct_signs(\"1 < 2 < 6 < 9 > 3\") ➞ True"
      ]
    },
    {
      "cell_type": "code",
      "execution_count": null,
      "id": "47760e52",
      "metadata": {
        "id": "47760e52"
      },
      "outputs": [],
      "source": [
        "def correct_signs(expression):\n",
        "    return eval(expression)"
      ]
    },
    {
      "cell_type": "code",
      "execution_count": null,
      "id": "c629d566",
      "metadata": {
        "id": "c629d566",
        "outputId": "8ecd711c-13a3-4219-e8dd-90a4bf299b56"
      },
      "outputs": [
        {
          "name": "stdout",
          "output_type": "stream",
          "text": [
            "True\n",
            "False\n",
            "True\n"
          ]
        }
      ],
      "source": [
        "print(correct_signs(\"3 < 7 < 11\"))           # Output: True\n",
        "print(correct_signs(\"13 > 44 > 33 > 1\"))     # Output: False\n",
        "print(correct_signs(\"1 < 2 < 6 < 9 > 3\"))    # Output: True"
      ]
    },
    {
      "cell_type": "markdown",
      "id": "e46f62df",
      "metadata": {
        "id": "e46f62df"
      },
      "source": [
        "Question3. Create a function that replaces all the vowels in a string with a specified character.\n",
        "Examples\n",
        "#### replace_vowels(&quot;the aardvark&quot;, &quot;#&quot;) ➞ &quot;th# ##rdv#rk&quot;\n",
        "#### replace_vowels(&quot;minnie mouse&quot;, &quot;?&quot;) ➞ &quot;m?nn?? m??s?&quot;\n",
        "#### replace_vowels(&quot;shakespeare&quot;, &quot;*&quot;) ➞ &quot;sh*k*sp**r*&quot;"
      ]
    },
    {
      "cell_type": "code",
      "execution_count": null,
      "id": "f53c3590",
      "metadata": {
        "id": "f53c3590"
      },
      "outputs": [],
      "source": [
        "def replace_vowels(string, char):\n",
        "    vowels = \"aeiouAEIOU\"\n",
        "    for vowel in vowels:\n",
        "        string = string.replace(vowel, char)\n",
        "    return string"
      ]
    },
    {
      "cell_type": "code",
      "execution_count": null,
      "id": "79307386",
      "metadata": {
        "id": "79307386",
        "outputId": "577c4b6f-6829-46f4-8290-ceb9b241a8ea"
      },
      "outputs": [
        {
          "name": "stdout",
          "output_type": "stream",
          "text": [
            "th# ##rdv#rk\n",
            "m?nn?? m??s?\n",
            "sh*k*sp**r*\n"
          ]
        }
      ],
      "source": [
        "print(replace_vowels(\"the aardvark\", \"#\"))      # Output: \"th# ##rdv#rk\"\n",
        "print(replace_vowels(\"minnie mouse\", \"?\"))      # Output: \"m?nn?? m??s?\"\n",
        "print(replace_vowels(\"shakespeare\", \"*\"))       # Output: \"sh*k*sp**r*\""
      ]
    },
    {
      "cell_type": "code",
      "execution_count": null,
      "id": "f2d972bf",
      "metadata": {
        "id": "f2d972bf"
      },
      "outputs": [],
      "source": [
        "Question4. Write a function that calculates the factorial of a number recursively.\n",
        "Examples\n",
        "factorial(5) ➞ 120\n",
        "factorial(3) ➞ 6\n",
        "factorial(1) ➞ 1\n",
        "factorial(0) ➞ 1"
      ]
    },
    {
      "cell_type": "code",
      "execution_count": 2,
      "id": "d2078940",
      "metadata": {
        "id": "d2078940"
      },
      "outputs": [],
      "source": [
        "def factorial(n):\n",
        "    if n == 0 or n == 1:\n",
        "        return 1\n",
        "    else:\n",
        "        return n * factorial(n - 1)"
      ]
    },
    {
      "cell_type": "code",
      "execution_count": 3,
      "id": "5a7b9e2f",
      "metadata": {
        "colab": {
          "base_uri": "https://localhost:8080/"
        },
        "id": "5a7b9e2f",
        "outputId": "6d3ecd8d-9853-49e0-b469-924ba86542ac"
      },
      "outputs": [
        {
          "output_type": "stream",
          "name": "stdout",
          "text": [
            "40320\n",
            "6\n",
            "1\n",
            "1\n"
          ]
        }
      ],
      "source": [
        "print(factorial(8))    # Output: 40320\n",
        "print(factorial(3))    # Output: 6\n",
        "print(factorial(1))    # Output: 1\n",
        "print(factorial(0))    # Output: 1"
      ]
    },
    {
      "cell_type": "markdown",
      "source": [
        "## Thank You...!! - By Mr.Abhishek Sachin Dhondalkar"
      ],
      "metadata": {
        "id": "7SPEPSg4jtsb"
      },
      "id": "7SPEPSg4jtsb"
    }
  ],
  "metadata": {
    "kernelspec": {
      "display_name": "Python 3 (ipykernel)",
      "language": "python",
      "name": "python3"
    },
    "language_info": {
      "codemirror_mode": {
        "name": "ipython",
        "version": 3
      },
      "file_extension": ".py",
      "mimetype": "text/x-python",
      "name": "python",
      "nbconvert_exporter": "python",
      "pygments_lexer": "ipython3",
      "version": "3.9.13"
    },
    "colab": {
      "provenance": []
    }
  },
  "nbformat": 4,
  "nbformat_minor": 5
}