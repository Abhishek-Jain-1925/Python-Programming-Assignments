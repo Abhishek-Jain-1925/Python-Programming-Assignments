{
  "cells": [
    {
      "cell_type": "markdown",
      "id": "81de0aca",
      "metadata": {
        "id": "81de0aca"
      },
      "source": [
        "## Python Programming Assignment 4"
      ]
    },
    {
      "cell_type": "code",
      "execution_count": null,
      "id": "ce996d5a",
      "metadata": {
        "id": "ce996d5a"
      },
      "outputs": [],
      "source": [
        "1. Write a Python Program to Find the Factorial of a Number?"
      ]
    },
    {
      "cell_type": "code",
      "execution_count": null,
      "id": "6e0dfe71",
      "metadata": {
        "id": "6e0dfe71",
        "outputId": "582d9326-38e7-477d-9695-3e0b17f2703c"
      },
      "outputs": [
        {
          "name": "stdout",
          "output_type": "stream",
          "text": [
            "Enter a number: 20\n",
            "Factorial: 2432902008176640000\n"
          ]
        }
      ],
      "source": [
        "number = int(input(\"Enter a number: \"))\n",
        "\n",
        "factorial = 1\n",
        "for i in range(1, number + 1):\n",
        "    factorial *= i\n",
        "\n",
        "print(\"Factorial:\", factorial)"
      ]
    },
    {
      "cell_type": "code",
      "execution_count": null,
      "id": "bb60bca5",
      "metadata": {
        "id": "bb60bca5"
      },
      "outputs": [],
      "source": [
        "2. Write a Python Program to Display the multiplication Table?"
      ]
    },
    {
      "cell_type": "code",
      "execution_count": null,
      "id": "87ab97e4",
      "metadata": {
        "id": "87ab97e4",
        "outputId": "aade57f7-e541-4830-ca63-4361bdfe0281"
      },
      "outputs": [
        {
          "name": "stdout",
          "output_type": "stream",
          "text": [
            "Enter a number: 4\n",
            "4 x 1 = 4\n",
            "4 x 2 = 8\n",
            "4 x 3 = 12\n",
            "4 x 4 = 16\n",
            "4 x 5 = 20\n",
            "4 x 6 = 24\n",
            "4 x 7 = 28\n",
            "4 x 8 = 32\n",
            "4 x 9 = 36\n",
            "4 x 10 = 40\n"
          ]
        }
      ],
      "source": [
        "number = int(input(\"Enter a number: \"))\n",
        "\n",
        "for i in range(1, 11):\n",
        "    print(number, \"x\", i, \"=\", number * i)"
      ]
    },
    {
      "cell_type": "code",
      "execution_count": null,
      "id": "4f93621b",
      "metadata": {
        "id": "4f93621b"
      },
      "outputs": [],
      "source": [
        "3. Write a Python Program to Print the Fibonacci sequence?"
      ]
    },
    {
      "cell_type": "code",
      "execution_count": null,
      "id": "c7be6bef",
      "metadata": {
        "id": "c7be6bef",
        "outputId": "5cef44cb-bc6d-4332-8308-17fa54c6d3e5"
      },
      "outputs": [
        {
          "name": "stdout",
          "output_type": "stream",
          "text": [
            "Enter the number of terms: 2\n",
            "Fibonacci Sequence: [0, 1]\n"
          ]
        }
      ],
      "source": [
        "terms = int(input(\"Enter the number of terms: \"))\n",
        "\n",
        "a, b = 0, 1\n",
        "fibonacci_sequence = [a, b]\n",
        "\n",
        "for _ in range(2, terms):\n",
        "    a, b = b, a + b\n",
        "    fibonacci_sequence.append(b)\n",
        "\n",
        "print(\"Fibonacci Sequence:\", fibonacci_sequence)"
      ]
    },
    {
      "cell_type": "code",
      "execution_count": null,
      "id": "61b9def6",
      "metadata": {
        "id": "61b9def6"
      },
      "outputs": [],
      "source": [
        "4. Write a Python Program to Check Armstrong Number?"
      ]
    },
    {
      "cell_type": "code",
      "execution_count": null,
      "id": "ca6edace",
      "metadata": {
        "id": "ca6edace",
        "outputId": "796906f4-f6a9-403e-c011-c5c5574e5130"
      },
      "outputs": [
        {
          "name": "stdout",
          "output_type": "stream",
          "text": [
            "Enter a number: 153\n",
            "Armstrong number\n"
          ]
        }
      ],
      "source": [
        "number = int(input(\"Enter a number: \"))\n",
        "temp = number\n",
        "sum = 0\n",
        "\n",
        "while temp > 0:\n",
        "    digit = temp % 10\n",
        "    sum += digit ** 3\n",
        "    temp //= 10\n",
        "\n",
        "if number == sum:\n",
        "    print(\"Armstrong number\")\n",
        "else:\n",
        "    print(\"Not an Armstrong number\")"
      ]
    },
    {
      "cell_type": "code",
      "execution_count": null,
      "id": "1747deff",
      "metadata": {
        "id": "1747deff"
      },
      "outputs": [],
      "source": [
        "5. Write a Python Program to Find Armstrong Number in an Interval?"
      ]
    },
    {
      "cell_type": "code",
      "execution_count": null,
      "id": "01c959e3",
      "metadata": {
        "id": "01c959e3",
        "outputId": "841c4284-017b-4ca4-d5ce-8d0ad6d96caf"
      },
      "outputs": [
        {
          "name": "stdout",
          "output_type": "stream",
          "text": [
            "Enter the start of the interval: 100\n",
            "Enter the end of the interval: 200\n",
            "Armstrong numbers in the interval: 100 - 200\n",
            "153\n"
          ]
        }
      ],
      "source": [
        "start = int(input(\"Enter the start of the interval: \"))\n",
        "end = int(input(\"Enter the end of the interval: \"))\n",
        "\n",
        "print(\"Armstrong numbers in the interval:\", start, \"-\", end)\n",
        "for number in range(start, end + 1):\n",
        "    temp = number\n",
        "    sum = 0\n",
        "    while temp > 0:\n",
        "        digit = temp % 10\n",
        "        sum += digit ** 3\n",
        "        temp //= 10\n",
        "    if number == sum:\n",
        "        print(number)"
      ]
    },
    {
      "cell_type": "code",
      "execution_count": null,
      "id": "cd70fcb0",
      "metadata": {
        "id": "cd70fcb0"
      },
      "outputs": [],
      "source": [
        "6. Write a Python Program to Find the Sum of Natural Numbers?"
      ]
    },
    {
      "cell_type": "code",
      "execution_count": 1,
      "id": "7925d664",
      "metadata": {
        "colab": {
          "base_uri": "https://localhost:8080/"
        },
        "id": "7925d664",
        "outputId": "353b4635-6e2c-4352-d7f6-1555a2a8a772"
      },
      "outputs": [
        {
          "output_type": "stream",
          "name": "stdout",
          "text": [
            "Enter a number: 1925\n",
            "Sum of natural numbers up to 1925 is 1853775\n"
          ]
        }
      ],
      "source": [
        "number = int(input(\"Enter a number: \"))\n",
        "\n",
        "sum = 0\n",
        "for i in range(1, number + 1):\n",
        "    sum += i\n",
        "\n",
        "print(\"Sum of natural numbers up to\", number, \"is\", sum)"
      ]
    },
    {
      "cell_type": "markdown",
      "source": [
        "## Thank You...!! - By Mr.Abhishek Sachin Dhondalkar"
      ],
      "metadata": {
        "id": "WKSYX1qng8Se"
      },
      "id": "WKSYX1qng8Se"
    }
  ],
  "metadata": {
    "kernelspec": {
      "display_name": "Python 3 (ipykernel)",
      "language": "python",
      "name": "python3"
    },
    "language_info": {
      "codemirror_mode": {
        "name": "ipython",
        "version": 3
      },
      "file_extension": ".py",
      "mimetype": "text/x-python",
      "name": "python",
      "nbconvert_exporter": "python",
      "pygments_lexer": "ipython3",
      "version": "3.9.13"
    },
    "colab": {
      "provenance": []
    }
  },
  "nbformat": 4,
  "nbformat_minor": 5
}