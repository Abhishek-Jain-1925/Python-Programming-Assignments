{
  "cells": [
    {
      "cell_type": "markdown",
      "id": "489139fb",
      "metadata": {
        "id": "489139fb"
      },
      "source": [
        "## Python Programming Assignment 1"
      ]
    },
    {
      "cell_type": "markdown",
      "id": "bad1efce",
      "metadata": {
        "id": "bad1efce"
      },
      "source": [
        "### Q1 Ans"
      ]
    },
    {
      "cell_type": "code",
      "execution_count": null,
      "id": "1b743b0f",
      "metadata": {
        "id": "1b743b0f",
        "outputId": "d477e278-266b-497a-dec1-21f5925f11b6"
      },
      "outputs": [
        {
          "name": "stdout",
          "output_type": "stream",
          "text": [
            "Hello Python\n"
          ]
        }
      ],
      "source": [
        "print(\"Hello Python\")"
      ]
    },
    {
      "cell_type": "markdown",
      "id": "db777190",
      "metadata": {
        "id": "db777190"
      },
      "source": [
        "### Q2 Ans"
      ]
    },
    {
      "cell_type": "code",
      "execution_count": null,
      "id": "8b6bca61",
      "metadata": {
        "id": "8b6bca61",
        "outputId": "211ce146-4ec8-48a8-f039-d44376c04700"
      },
      "outputs": [
        {
          "name": "stdout",
          "output_type": "stream",
          "text": [
            "enter num\n",
            "4\n",
            "enter num\n",
            "2\n",
            "Addition is  6\n",
            "Division is  2.0\n"
          ]
        }
      ],
      "source": [
        "a =int(input(\"enter num\\n\"))\n",
        "b =int(input(\"enter num\\n\"))\n",
        "#add = a+b\n",
        "print(\"Addition is \",a+b)\n",
        "print(\"Division is \",a/b)"
      ]
    },
    {
      "cell_type": "markdown",
      "id": "67d458c2",
      "metadata": {
        "id": "67d458c2"
      },
      "source": [
        "### Q3 Ans"
      ]
    },
    {
      "cell_type": "code",
      "execution_count": null,
      "id": "d37afeb4",
      "metadata": {
        "id": "d37afeb4",
        "outputId": "dca97551-369f-42ea-af1b-d1a3088cce42"
      },
      "outputs": [
        {
          "name": "stdout",
          "output_type": "stream",
          "text": [
            "Enter the base of the triangle: 10\n",
            "Enter the height of the triangle: 20\n",
            "The area of the triangle is: 100.0\n"
          ]
        }
      ],
      "source": [
        "base = float(input(\"Enter the base of the triangle: \"))\n",
        "height = float(input(\"Enter the height of the triangle: \"))\n",
        "area = 0.5 * base * height\n",
        "print(\"The area of the triangle is:\",area)"
      ]
    },
    {
      "cell_type": "markdown",
      "id": "e12967a1",
      "metadata": {
        "id": "e12967a1"
      },
      "source": [
        "### Q4 Ans"
      ]
    },
    {
      "cell_type": "code",
      "execution_count": null,
      "id": "35017e63",
      "metadata": {
        "id": "35017e63",
        "outputId": "c0728d18-b19a-4d40-cb59-7224170d5f64"
      },
      "outputs": [
        {
          "name": "stdout",
          "output_type": "stream",
          "text": [
            "Enter the value of the first variable: 10\n",
            "Enter the value of the second variable: 20\n",
            "Before swapping:\n",
            "First variable: 10\n",
            "Second variable: 20\n",
            "After swapping:\n",
            "First variable: 20\n",
            "Second variable: 10\n"
          ]
        }
      ],
      "source": [
        "a = input(\"Enter the value of the first variable: \")\n",
        "b = input(\"Enter the value of the second variable: \")\n",
        "print(\"Before swapping:\")\n",
        "print(\"First variable:\", a)\n",
        "print(\"Second variable:\", b)\n",
        "temp = a\n",
        "a = b\n",
        "b = temp\n",
        "print(\"After swapping:\")\n",
        "print(\"First variable:\", a)\n",
        "print(\"Second variable:\", b)"
      ]
    },
    {
      "cell_type": "markdown",
      "id": "c14fe835",
      "metadata": {
        "id": "c14fe835"
      },
      "source": [
        "### Q5 Ans"
      ]
    },
    {
      "cell_type": "code",
      "execution_count": 2,
      "id": "7a287ef7",
      "metadata": {
        "colab": {
          "base_uri": "https://localhost:8080/"
        },
        "id": "7a287ef7",
        "outputId": "3ba60a1e-ca6e-4bd3-ad8e-582d639b2d22"
      },
      "outputs": [
        {
          "output_type": "stream",
          "name": "stdout",
          "text": [
            "Random No. : 9\n"
          ]
        }
      ],
      "source": [
        "import random\n",
        "random_number = random.randint(1, 100)\n",
        "print(\"Random No. :\", random_number)"
      ]
    },
    {
      "cell_type": "markdown",
      "source": [
        "## Thank You...!! - By Mr.Abhishek Sachin Dhondalkar"
      ],
      "metadata": {
        "id": "jsf6pbBEc_-S"
      },
      "id": "jsf6pbBEc_-S"
    }
  ],
  "metadata": {
    "kernelspec": {
      "display_name": "Python 3 (ipykernel)",
      "language": "python",
      "name": "python3"
    },
    "language_info": {
      "codemirror_mode": {
        "name": "ipython",
        "version": 3
      },
      "file_extension": ".py",
      "mimetype": "text/x-python",
      "name": "python",
      "nbconvert_exporter": "python",
      "pygments_lexer": "ipython3",
      "version": "3.9.13"
    },
    "colab": {
      "provenance": []
    }
  },
  "nbformat": 4,
  "nbformat_minor": 5
}