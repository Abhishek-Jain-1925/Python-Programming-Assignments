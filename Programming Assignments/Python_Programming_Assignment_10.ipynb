{
  "cells": [
    {
      "cell_type": "markdown",
      "id": "2613061c",
      "metadata": {
        "id": "2613061c"
      },
      "source": [
        "## Python Programming Assignment 10"
      ]
    },
    {
      "cell_type": "code",
      "execution_count": null,
      "id": "1ff90bd4",
      "metadata": {
        "id": "1ff90bd4"
      },
      "outputs": [],
      "source": [
        "1. Write a Python program to find sum of elements in list?"
      ]
    },
    {
      "cell_type": "code",
      "execution_count": null,
      "id": "dd98b039",
      "metadata": {
        "id": "dd98b039",
        "outputId": "5d61c97a-0e89-40c4-923d-525fd8558097"
      },
      "outputs": [
        {
          "name": "stdout",
          "output_type": "stream",
          "text": [
            "Sum of elements: 15\n"
          ]
        }
      ],
      "source": [
        "def sum_of_elements(lst):\n",
        "    return sum(lst)\n",
        "numbers = [1, 2, 3, 4, 5]\n",
        "result = sum_of_elements(numbers)\n",
        "print(\"Sum of elements:\", result)\n"
      ]
    },
    {
      "cell_type": "code",
      "execution_count": null,
      "id": "ba52fada",
      "metadata": {
        "id": "ba52fada"
      },
      "outputs": [],
      "source": [
        "2. Write a Python program to Multiply all numbers in the list?"
      ]
    },
    {
      "cell_type": "code",
      "execution_count": null,
      "id": "52842a89",
      "metadata": {
        "id": "52842a89",
        "outputId": "096d3dfe-4eff-4709-bc62-1581995d7a08"
      },
      "outputs": [
        {
          "name": "stdout",
          "output_type": "stream",
          "text": [
            "Product of numbers: 120\n"
          ]
        }
      ],
      "source": [
        "def multiply_numbers(lst):\n",
        "    result = 1\n",
        "    for num in lst:\n",
        "        result *= num\n",
        "    return result\n",
        "numbers = [1, 2, 3, 4, 5]\n",
        "result = multiply_numbers(numbers)\n",
        "print(\"Product of numbers:\", result)\n"
      ]
    },
    {
      "cell_type": "code",
      "execution_count": null,
      "id": "8ef1ff86",
      "metadata": {
        "id": "8ef1ff86"
      },
      "outputs": [],
      "source": [
        "3. Write a Python program to find smallest number in a list?"
      ]
    },
    {
      "cell_type": "code",
      "execution_count": null,
      "id": "7f666eb7",
      "metadata": {
        "id": "7f666eb7",
        "outputId": "3a7be25a-f29b-4605-c0a6-7c26ad0418f3"
      },
      "outputs": [
        {
          "name": "stdout",
          "output_type": "stream",
          "text": [
            "Smallest number: 1\n"
          ]
        }
      ],
      "source": [
        "def find_smallest_number(lst):\n",
        "    return min(lst)\n",
        "numbers = [5, 2, 8, 1, 10]\n",
        "result = find_smallest_number(numbers)\n",
        "print(\"Smallest number:\", result)\n"
      ]
    },
    {
      "cell_type": "code",
      "execution_count": null,
      "id": "f08f26c7",
      "metadata": {
        "id": "f08f26c7"
      },
      "outputs": [],
      "source": [
        "4. Write a Python program to find largest number in a list?"
      ]
    },
    {
      "cell_type": "code",
      "execution_count": null,
      "id": "b868d4ff",
      "metadata": {
        "id": "b868d4ff",
        "outputId": "2fde8c66-ba56-42b1-a975-2877ffa3af06"
      },
      "outputs": [
        {
          "name": "stdout",
          "output_type": "stream",
          "text": [
            "Largest number: 10\n"
          ]
        }
      ],
      "source": [
        "def find_largest_number(lst):\n",
        "    return max(lst)\n",
        "numbers = [5, 2, 8, 1, 10]\n",
        "result = find_largest_number(numbers)\n",
        "print(\"Largest number:\", result)\n"
      ]
    },
    {
      "cell_type": "code",
      "execution_count": null,
      "id": "40d8cad3",
      "metadata": {
        "id": "40d8cad3"
      },
      "outputs": [],
      "source": [
        "5. Write a Python program to find second largest number in a list?"
      ]
    },
    {
      "cell_type": "code",
      "execution_count": null,
      "id": "b1545cb8",
      "metadata": {
        "id": "b1545cb8",
        "outputId": "fc67e4f0-1582-4bdd-9c3b-fb9cb4a1442a"
      },
      "outputs": [
        {
          "name": "stdout",
          "output_type": "stream",
          "text": [
            "Second largest number: 8\n"
          ]
        }
      ],
      "source": [
        "def find_second_largest(lst):\n",
        "    sorted_lst = sorted(lst)\n",
        "    return sorted_lst[-2]\n",
        "numbers = [5, 2, 8, 1, 10]\n",
        "result = find_second_largest(numbers)\n",
        "print(\"Second largest number:\", result)"
      ]
    },
    {
      "cell_type": "code",
      "execution_count": null,
      "id": "96a00ab0",
      "metadata": {
        "id": "96a00ab0"
      },
      "outputs": [],
      "source": [
        "6. Write a Python program to find N largest elements from a list?"
      ]
    },
    {
      "cell_type": "code",
      "execution_count": null,
      "id": "09ad3dc8",
      "metadata": {
        "id": "09ad3dc8",
        "outputId": "bf48fc23-4b19-4a37-98a4-6d27089ffca4"
      },
      "outputs": [
        {
          "name": "stdout",
          "output_type": "stream",
          "text": [
            "N largest elements: [10, 8, 5]\n"
          ]
        }
      ],
      "source": [
        "def find_n_largest(lst, n):\n",
        "    sorted_lst = sorted(lst, reverse=True)\n",
        "    return sorted_lst[:n]\n",
        "numbers = [5, 2, 8, 1, 10]\n",
        "result = find_n_largest(numbers, 3)\n",
        "print(\"N largest elements:\", result)\n"
      ]
    },
    {
      "cell_type": "code",
      "execution_count": null,
      "id": "96458e3b",
      "metadata": {
        "id": "96458e3b"
      },
      "outputs": [],
      "source": [
        "7. Write a Python program to print even numbers in a list?"
      ]
    },
    {
      "cell_type": "code",
      "execution_count": null,
      "id": "5a2725a3",
      "metadata": {
        "id": "5a2725a3",
        "outputId": "f14ad2f9-d625-4327-fd64-0fa72cfd2aa8"
      },
      "outputs": [
        {
          "name": "stdout",
          "output_type": "stream",
          "text": [
            "Even numbers: [2, 4, 6]\n"
          ]
        }
      ],
      "source": [
        "def print_even_numbers(lst):\n",
        "    even_numbers = [num for num in lst if num % 2 == 0]\n",
        "    print(\"Even numbers:\", even_numbers)\n",
        "numbers = [1, 2, 3, 4, 5, 6]\n",
        "print_even_numbers(numbers)\n"
      ]
    },
    {
      "cell_type": "code",
      "execution_count": null,
      "id": "c665bf70",
      "metadata": {
        "id": "c665bf70"
      },
      "outputs": [],
      "source": [
        "8. Write a Python program to print odd numbers in a List?"
      ]
    },
    {
      "cell_type": "code",
      "execution_count": null,
      "id": "2ab25142",
      "metadata": {
        "id": "2ab25142",
        "outputId": "27592150-d43a-44de-ae3b-fba16701d540"
      },
      "outputs": [
        {
          "name": "stdout",
          "output_type": "stream",
          "text": [
            "Odd numbers: [1, 3, 5]\n"
          ]
        }
      ],
      "source": [
        "def print_odd_numbers(lst):\n",
        "    odd_numbers = [num for num in lst if num % 2 != 0]\n",
        "    print(\"Odd numbers:\", odd_numbers)\n",
        "numbers = [1, 2, 3, 4, 5, 6]\n",
        "print_odd_numbers(numbers)\n"
      ]
    },
    {
      "cell_type": "code",
      "execution_count": null,
      "id": "40b03c25",
      "metadata": {
        "id": "40b03c25"
      },
      "outputs": [],
      "source": [
        "9. Write a Python program to Remove empty List from List?"
      ]
    },
    {
      "cell_type": "code",
      "execution_count": null,
      "id": "516f1ccd",
      "metadata": {
        "id": "516f1ccd",
        "outputId": "dee6fd7b-4acd-4a1f-d54b-c1f583ce0ae4"
      },
      "outputs": [
        {
          "name": "stdout",
          "output_type": "stream",
          "text": [
            "List after removing empty lists: [1, 2, 3, 4, 5]\n"
          ]
        }
      ],
      "source": [
        "def remove_empty_lists(lst):\n",
        "    return [sublist for sublist in lst if sublist]\n",
        "my_list = [1, 2, [], 3, [], 4, [], 5, []]\n",
        "result = remove_empty_lists(my_list)\n",
        "print(\"List after removing empty lists:\", result)\n"
      ]
    },
    {
      "cell_type": "code",
      "execution_count": null,
      "id": "1d5e77e2",
      "metadata": {
        "id": "1d5e77e2"
      },
      "outputs": [],
      "source": [
        "10. Write a Python program to Cloning or Copying a list?"
      ]
    },
    {
      "cell_type": "code",
      "execution_count": null,
      "id": "c3334751",
      "metadata": {
        "id": "c3334751",
        "outputId": "e55df593-0a64-4d9d-eccf-59749047e97f"
      },
      "outputs": [
        {
          "name": "stdout",
          "output_type": "stream",
          "text": [
            "Cloned list: [1, 2, 3, 4, 5]\n"
          ]
        }
      ],
      "source": [
        "def clone_list(lst):\n",
        "    return lst.copy()  # or list(lst) or lst[:]\n",
        "original_list = [1, 2, 3, 4, 5]\n",
        "cloned_list = clone_list(original_list)\n",
        "print(\"Cloned list:\", cloned_list)\n"
      ]
    },
    {
      "cell_type": "code",
      "execution_count": null,
      "id": "6f53e57c",
      "metadata": {
        "id": "6f53e57c"
      },
      "outputs": [],
      "source": [
        "11. Write a Python program to Count occurrences of an element in a list?"
      ]
    },
    {
      "cell_type": "code",
      "execution_count": null,
      "id": "599f9267",
      "metadata": {
        "id": "599f9267",
        "outputId": "5bd62f83-043a-4f5a-c3c2-cf616cec9fff"
      },
      "outputs": [
        {
          "name": "stdout",
          "output_type": "stream",
          "text": [
            "Occurrences of 2 in the list: 3\n"
          ]
        }
      ],
      "source": [
        "def count_occurrences(lst, element):\n",
        "    return lst.count(element)\n",
        "numbers = [1, 2, 3, 4, 2, 5, 2]\n",
        "element = 2\n",
        "result = count_occurrences(numbers, element)\n",
        "print(\"Occurrences of\", element, \"in the list:\", result)\n"
      ]
    },
    {
      "cell_type": "markdown",
      "source": [
        "## Thank You...!! - By Mr.Abhishek Sachin Dhondalkar"
      ],
      "metadata": {
        "id": "3VnlRlmaiH2p"
      },
      "id": "3VnlRlmaiH2p"
    }
  ],
  "metadata": {
    "kernelspec": {
      "display_name": "Python 3 (ipykernel)",
      "language": "python",
      "name": "python3"
    },
    "language_info": {
      "codemirror_mode": {
        "name": "ipython",
        "version": 3
      },
      "file_extension": ".py",
      "mimetype": "text/x-python",
      "name": "python",
      "nbconvert_exporter": "python",
      "pygments_lexer": "ipython3",
      "version": "3.9.13"
    },
    "colab": {
      "provenance": []
    }
  },
  "nbformat": 4,
  "nbformat_minor": 5
}