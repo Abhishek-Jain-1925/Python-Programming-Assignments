{
  "cells": [
    {
      "cell_type": "markdown",
      "id": "d81d06cd",
      "metadata": {
        "id": "d81d06cd"
      },
      "source": [
        "## Python Programming Assignment 6"
      ]
    },
    {
      "cell_type": "code",
      "execution_count": null,
      "id": "5bf1cf32",
      "metadata": {
        "id": "5bf1cf32"
      },
      "outputs": [],
      "source": [
        "1. Write a Python Program to Display Fibonacci Sequence Using Recursion?"
      ]
    },
    {
      "cell_type": "code",
      "execution_count": null,
      "id": "730150b9",
      "metadata": {
        "id": "730150b9",
        "outputId": "08bcf951-36fb-469e-bde1-3b6372116265"
      },
      "outputs": [
        {
          "name": "stdout",
          "output_type": "stream",
          "text": [
            "Enter the number of terms: 23\n",
            "Fibonacci sequence:\n",
            "0 1 1 2 3 5 8 13 21 34 55 89 144 233 377 610 987 1597 2584 4181 6765 10946 17711 "
          ]
        }
      ],
      "source": [
        "def fibonacci(n):\n",
        "    if n <= 1:\n",
        "        return n\n",
        "    else:\n",
        "        return fibonacci(n - 1) + fibonacci(n - 2)\n",
        "\n",
        "terms = int(input(\"Enter the number of terms: \"))\n",
        "\n",
        "if terms <= 0:\n",
        "    print(\"Please enter a positive integer.\")\n",
        "else:\n",
        "    print(\"Fibonacci sequence:\")\n",
        "    for i in range(terms):\n",
        "        print(fibonacci(i), end=\" \")"
      ]
    },
    {
      "cell_type": "code",
      "execution_count": null,
      "id": "7cf48890",
      "metadata": {
        "id": "7cf48890"
      },
      "outputs": [],
      "source": [
        "2. Write a Python Program to Find Factorial of Number Using Recursion?"
      ]
    },
    {
      "cell_type": "code",
      "execution_count": null,
      "id": "7a4cc8dd",
      "metadata": {
        "id": "7a4cc8dd",
        "outputId": "79cb12f0-8a23-4dd3-f216-84025ce56444"
      },
      "outputs": [
        {
          "name": "stdout",
          "output_type": "stream",
          "text": [
            "Enter a number: 10\n",
            "Factorial of 10 is 3628800\n"
          ]
        }
      ],
      "source": [
        "def factorial(n):\n",
        "    if n == 0:\n",
        "        return 1\n",
        "    else:\n",
        "        return n * factorial(n - 1)\n",
        "\n",
        "num = int(input(\"Enter a number: \"))\n",
        "\n",
        "if num < 0:\n",
        "    print(\"Factorial is not defined for negative numbers.\")\n",
        "else:\n",
        "    print(\"Factorial of\", num, \"is\", factorial(num))"
      ]
    },
    {
      "cell_type": "code",
      "execution_count": null,
      "id": "5b81209e",
      "metadata": {
        "id": "5b81209e"
      },
      "outputs": [],
      "source": [
        "3. Write a Python Program to calculate your Body Mass Index?"
      ]
    },
    {
      "cell_type": "code",
      "execution_count": null,
      "id": "3ab1a723",
      "metadata": {
        "id": "3ab1a723",
        "outputId": "d820c823-11a4-42fb-8237-543e882f1690"
      },
      "outputs": [
        {
          "name": "stdout",
          "output_type": "stream",
          "text": [
            "Enter your weight in kilograms: 70\n",
            "Enter your height in centimeters: 164\n",
            "Your Body Mass Index (BMI) is 26.03\n"
          ]
        }
      ],
      "source": [
        "def calculate_bmi(weight, height):\n",
        "    bmi = (weight / ((height/100) ** 2))\n",
        "    return bmi\n",
        "\n",
        "weight = float(input(\"Enter your weight in kilograms: \"))\n",
        "height = float(input(\"Enter your height in centimeters: \"))\n",
        "\n",
        "bmi = calculate_bmi(weight, height)\n",
        "print(\"Your Body Mass Index (BMI) is\", round(bmi, 2))"
      ]
    },
    {
      "cell_type": "code",
      "execution_count": null,
      "id": "f2ba7407",
      "metadata": {
        "id": "f2ba7407"
      },
      "outputs": [],
      "source": [
        "4. Write a Python Program to calculate the natural logarithm of any number?"
      ]
    },
    {
      "cell_type": "code",
      "execution_count": null,
      "id": "e73ba444",
      "metadata": {
        "id": "e73ba444",
        "outputId": "eed79cb2-03b1-45bc-a09d-f10f22f121a9"
      },
      "outputs": [
        {
          "name": "stdout",
          "output_type": "stream",
          "text": [
            "Enter a number: 20\n",
            "The natural logarithm of 20.0 is 2.995732273553991\n"
          ]
        }
      ],
      "source": [
        "import math\n",
        "\n",
        "number = float(input(\"Enter a number: \"))\n",
        "\n",
        "if number <= 0:\n",
        "    print(\"Please enter a positive number.\")\n",
        "else:\n",
        "    result = math.log(number)\n",
        "    print(\"The natural logarithm of\", number, \"is\", result)"
      ]
    },
    {
      "cell_type": "code",
      "execution_count": null,
      "id": "97af0de8",
      "metadata": {
        "id": "97af0de8"
      },
      "outputs": [],
      "source": [
        "5. Write a Python Program for cube sum of first n natural numbers?"
      ]
    },
    {
      "cell_type": "code",
      "execution_count": null,
      "id": "b72de58a",
      "metadata": {
        "id": "b72de58a",
        "outputId": "5678a27c-e950-4460-afdb-87900d18c9b9"
      },
      "outputs": [
        {
          "name": "stdout",
          "output_type": "stream",
          "text": [
            "Enter a number: 20\n",
            "The cube sum of the first 20 natural numbers is 44100\n"
          ]
        }
      ],
      "source": [
        "def cube_sum(n):\n",
        "    result = 0\n",
        "    for i in range(1, n + 1):\n",
        "        result += i ** 3\n",
        "    return result\n",
        "\n",
        "num = int(input(\"Enter a number: \"))\n",
        "\n",
        "if num < 0:\n",
        "    print(\"Please enter a positive integer.\")\n",
        "else:\n",
        "    result = cube_sum(num)\n",
        "    print(\"The cube sum of the first\", num, \"natural numbers is\", result)"
      ]
    },
    {
      "cell_type": "markdown",
      "source": [
        "## Thank You...!! - By Mr.Abhishek Sachin Dhondalkar"
      ],
      "metadata": {
        "id": "PoVkFEijhUxr"
      },
      "id": "PoVkFEijhUxr"
    }
  ],
  "metadata": {
    "kernelspec": {
      "display_name": "Python 3 (ipykernel)",
      "language": "python",
      "name": "python3"
    },
    "language_info": {
      "codemirror_mode": {
        "name": "ipython",
        "version": 3
      },
      "file_extension": ".py",
      "mimetype": "text/x-python",
      "name": "python",
      "nbconvert_exporter": "python",
      "pygments_lexer": "ipython3",
      "version": "3.9.13"
    },
    "colab": {
      "provenance": []
    }
  },
  "nbformat": 4,
  "nbformat_minor": 5
}