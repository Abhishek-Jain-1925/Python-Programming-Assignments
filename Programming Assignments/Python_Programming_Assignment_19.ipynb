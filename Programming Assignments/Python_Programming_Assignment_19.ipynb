{
  "cells": [
    {
      "cell_type": "markdown",
      "id": "42309f3f",
      "metadata": {
        "id": "42309f3f"
      },
      "source": [
        "## Python Programming Assignment 19"
      ]
    },
    {
      "cell_type": "markdown",
      "id": "bba63d7e",
      "metadata": {
        "id": "bba63d7e"
      },
      "source": [
        "Question1\n",
        "Create a function that takes a string and returns a string in which each character is repeated\n",
        "once.\n",
        "Examples\n",
        "double_char(&quot;String&quot;) ➞ &quot;SSttrriinngg&quot;\n",
        "double_char(&quot;Hello World!&quot;) ➞ &quot;HHeelllloo WWoorrlldd!!&quot;\n",
        "double_char(&quot;1234!_ &quot;) ➞ &quot;11223344!!__ &quot;"
      ]
    },
    {
      "cell_type": "code",
      "execution_count": null,
      "id": "f9f81c2c",
      "metadata": {
        "id": "f9f81c2c"
      },
      "outputs": [],
      "source": [
        "def double_char(string):\n",
        "    result = \"\"\n",
        "    for char in string:\n",
        "        result += char * 2\n",
        "    return result"
      ]
    },
    {
      "cell_type": "code",
      "execution_count": null,
      "id": "410d761d",
      "metadata": {
        "id": "410d761d",
        "outputId": "a7edcc22-7d7a-4bfe-c8e8-29f0bea045e6"
      },
      "outputs": [
        {
          "name": "stdout",
          "output_type": "stream",
          "text": [
            "SSttrriinngg\n",
            "HHeelllloo  WWoorrlldd!!\n",
            "11223344!!__  \n"
          ]
        }
      ],
      "source": [
        "print(double_char(\"String\"))  \n",
        "print(double_char(\"Hello World!\"))  \n",
        "print(double_char(\"1234!_ \"))  "
      ]
    },
    {
      "cell_type": "markdown",
      "id": "75afe5b5",
      "metadata": {
        "id": "75afe5b5"
      },
      "source": [
        "Question2\n",
        "Create a function that reverses a boolean value and returns the string &quot;boolean expected&quot;\n",
        "if another variable type is given.\n",
        "Examples\n",
        "reverse(True) ➞ False\n",
        "reverse(False) ➞ True\n",
        "reverse(0) ➞ &quot;boolean expected&quot;\n",
        "reverse(None) ➞ &quot;boolean expected&quot;"
      ]
    },
    {
      "cell_type": "code",
      "execution_count": null,
      "id": "0fa2ee26",
      "metadata": {
        "id": "0fa2ee26",
        "outputId": "d68865cb-8291-431d-c3cf-4368e317f9b2"
      },
      "outputs": [
        {
          "name": "stdout",
          "output_type": "stream",
          "text": [
            "False\n",
            "True\n",
            "boolean expected\n",
            "boolean expected\n"
          ]
        }
      ],
      "source": [
        "def reverse(arg):\n",
        "    if isinstance(arg, bool):\n",
        "        return not arg\n",
        "    else:\n",
        "        return \"boolean expected\"\n",
        "print(reverse(True))      \n",
        "print(reverse(False))     \n",
        "print(reverse(0))        \n",
        "print(reverse(None))     "
      ]
    },
    {
      "cell_type": "markdown",
      "id": "895be302",
      "metadata": {
        "id": "895be302"
      },
      "source": [
        "Question3\n",
        "Create a function that returns the thickness (in meters) of a piece of paper after folding it n\n",
        "number of times. The paper starts off with a thickness of 0.5mm.\n",
        "Examples\n",
        "num_layers(1) ➞ &quot;0.001m&quot;\n",
        "Paper folded once is 1mm (equal to 0.001m)\n",
        "num_layers(4) ➞ &quot;0.008m&quot;\n",
        "Paper folded 4 times is 8mm (equal to 0.008m)\n",
        "num_layers(21) ➞ &quot;1048.576m&quot;\n",
        "Paper folded 21 times is 1048576mm (equal to 1048.576m)"
      ]
    },
    {
      "cell_type": "code",
      "execution_count": null,
      "id": "c5e1483e",
      "metadata": {
        "id": "c5e1483e",
        "outputId": "3a99bd87-c2ed-410d-f706-6419c1cbe725"
      },
      "outputs": [
        {
          "name": "stdout",
          "output_type": "stream",
          "text": [
            "0.001m\n",
            "0.008m\n",
            "1048.576m\n"
          ]
        }
      ],
      "source": [
        "def num_layers(n):\n",
        "    thickness = 0.5 * (2 ** n) / 1000\n",
        "    return \"{:.3f}m\".format(thickness)\n",
        "print(num_layers(1))    \n",
        "print(num_layers(4))   \n",
        "print(num_layers(21))   "
      ]
    },
    {
      "cell_type": "markdown",
      "id": "af9f5772",
      "metadata": {
        "id": "af9f5772"
      },
      "source": [
        "Question4\n",
        "\n",
        "Create a function that takes a single string as argument and returns an ordered list containing\n",
        "the indices of all capital letters in the string.\n",
        "Examples\n",
        "index_of_caps(&quot;eDaBiT&quot;) ➞ [1, 3, 5]\n",
        "index_of_caps(&quot;eQuINoX&quot;) ➞ [1, 3, 4, 6]\n",
        "index_of_caps(&quot;determine&quot;) ➞ []\n",
        "index_of_caps(&quot;STRIKE&quot;) ➞ [0, 1, 2, 3, 4, 5]\n",
        "index_of_caps(&quot;sUn&quot;) ➞ [1]"
      ]
    },
    {
      "cell_type": "code",
      "execution_count": null,
      "id": "1e03386e",
      "metadata": {
        "id": "1e03386e",
        "outputId": "0785f626-ded0-42b9-9270-f41c301d9bcd"
      },
      "outputs": [
        {
          "name": "stdout",
          "output_type": "stream",
          "text": [
            "[1, 3, 5]\n",
            "[1, 3, 4, 6]\n",
            "[]\n",
            "[0, 1, 2, 3, 4, 5]\n",
            "[1]\n"
          ]
        }
      ],
      "source": [
        "def index_of_caps(word):\n",
        "    indices = []\n",
        "    for i, char in enumerate(word):\n",
        "        if char.isupper():\n",
        "            indices.append(i)\n",
        "    return indices\n",
        "print(index_of_caps(\"eDaBiT\"))    \n",
        "print(index_of_caps(\"eQuINoX\"))    \n",
        "print(index_of_caps(\"determine\"))  \n",
        "print(index_of_caps(\"STRIKE\"))     \n",
        "print(index_of_caps(\"sUn\"))       "
      ]
    },
    {
      "cell_type": "markdown",
      "id": "0df84cbb",
      "metadata": {
        "id": "0df84cbb"
      },
      "source": [
        "Question5\n",
        "Using list comprehensions, create a function that finds all even numbers from 1 to the given\n",
        "number.\n",
        "Examples\n",
        "find_even_nums(8) ➞ [2, 4, 6, 8]\n",
        "find_even_nums(4) ➞ [2, 4]\n",
        "find_even_nums(2) ➞ [2]"
      ]
    },
    {
      "cell_type": "code",
      "execution_count": null,
      "id": "02604364",
      "metadata": {
        "id": "02604364"
      },
      "outputs": [],
      "source": [
        "def find_even_nums(n):\n",
        "    return [num for num in range(1, n+1) if num % 2 == 0]"
      ]
    },
    {
      "cell_type": "code",
      "execution_count": null,
      "id": "7adb7227",
      "metadata": {
        "id": "7adb7227",
        "outputId": "c01c96fe-496c-43b6-cd4a-d04a598b7081"
      },
      "outputs": [
        {
          "name": "stdout",
          "output_type": "stream",
          "text": [
            "[2, 4, 6, 8]\n",
            "[2, 4]\n",
            "[2]\n"
          ]
        }
      ],
      "source": [
        "print(find_even_nums(8))    \n",
        "print(find_even_nums(4))    \n",
        "print(find_even_nums(2))  "
      ]
    },
    {
      "cell_type": "markdown",
      "source": [
        "## Thank You...!! - By Mr.Abhishek Sachin Dhondalkar"
      ],
      "metadata": {
        "id": "QpZ2aHh0kOyA"
      },
      "id": "QpZ2aHh0kOyA"
    }
  ],
  "metadata": {
    "kernelspec": {
      "display_name": "Python 3 (ipykernel)",
      "language": "python",
      "name": "python3"
    },
    "language_info": {
      "codemirror_mode": {
        "name": "ipython",
        "version": 3
      },
      "file_extension": ".py",
      "mimetype": "text/x-python",
      "name": "python",
      "nbconvert_exporter": "python",
      "pygments_lexer": "ipython3",
      "version": "3.9.13"
    },
    "colab": {
      "provenance": []
    }
  },
  "nbformat": 4,
  "nbformat_minor": 5
}