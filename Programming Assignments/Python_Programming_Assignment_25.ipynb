{
  "cells": [
    {
      "cell_type": "markdown",
      "id": "ad017495",
      "metadata": {
        "id": "ad017495"
      },
      "source": [
        "## Python Programming Assignment 25"
      ]
    },
    {
      "cell_type": "markdown",
      "id": "2ea3bc3b",
      "metadata": {
        "id": "2ea3bc3b"
      },
      "source": [
        "Question1\n",
        "Create a function that takes three integer arguments (a, b, c) and returns the amount of\n",
        "integers which are of equal value.\n",
        "Examples\n",
        "equal(3, 4, 3) ➞ 2\n",
        "equal(1, 1, 1) ➞ 3\n",
        "equal(3, 4, 1) ➞ 0\n",
        "Notes\n",
        "Your function must return 0, 2 or 3."
      ]
    },
    {
      "cell_type": "code",
      "execution_count": null,
      "id": "90f6a195",
      "metadata": {
        "id": "90f6a195"
      },
      "outputs": [],
      "source": [
        "def equal(a, b, c):\n",
        "    count = 0\n",
        "    \n",
        "    # Check if a equals b\n",
        "    if a == b:\n",
        "        count += 1\n",
        "    \n",
        "    # Check if a equals c\n",
        "    if a == c:\n",
        "        count += 1\n",
        "    \n",
        "    # Check if b equals c\n",
        "    if b == c:\n",
        "        count += 1\n",
        "    \n",
        "    return count"
      ]
    },
    {
      "cell_type": "code",
      "execution_count": null,
      "id": "3900cde6",
      "metadata": {
        "id": "3900cde6",
        "outputId": "d709590f-79e2-4c03-bb89-8570671ee369"
      },
      "outputs": [
        {
          "name": "stdout",
          "output_type": "stream",
          "text": [
            "3\n"
          ]
        }
      ],
      "source": [
        "print(equal(1, 1, 1))"
      ]
    },
    {
      "cell_type": "markdown",
      "id": "a6bbbc55",
      "metadata": {
        "id": "a6bbbc55"
      },
      "source": [
        "Question2\n",
        "Write a function that converts a dictionary into a list of keys-values tuples."
      ]
    },
    {
      "cell_type": "code",
      "execution_count": null,
      "id": "65312ff1",
      "metadata": {
        "id": "65312ff1"
      },
      "outputs": [],
      "source": [
        "def dict_to_list(dictionary):\n",
        "    # Get the key-value pairs from the dictionary and sort them\n",
        "    sorted_pairs = sorted(dictionary.items(), key=lambda x: x[0])\n",
        "    \n",
        "    # Return the sorted key-value pairs\n",
        "    return sorted_pairs"
      ]
    },
    {
      "cell_type": "code",
      "execution_count": null,
      "id": "16d32a0c",
      "metadata": {
        "id": "16d32a0c",
        "outputId": "f2ce4544-15ce-4ea7-e34f-1fcb388c1481"
      },
      "outputs": [
        {
          "name": "stdout",
          "output_type": "stream",
          "text": [
            "[('B', 2), ('C', 3), ('D', 1)]\n"
          ]
        }
      ],
      "source": [
        "print(dict_to_list({\"D\": 1, \"B\": 2, \"C\": 3}))"
      ]
    },
    {
      "cell_type": "markdown",
      "id": "8f107315",
      "metadata": {
        "id": "8f107315"
      },
      "source": [
        "Question3\n",
        "Write a function that creates a dictionary with each (key, value) pair being the (lower case,\n",
        "upper case) versions of a letter, respectively."
      ]
    },
    {
      "cell_type": "code",
      "execution_count": null,
      "id": "b64f42a0",
      "metadata": {
        "id": "b64f42a0"
      },
      "outputs": [],
      "source": [
        "def mapping(letters):\n",
        "    # Create a dictionary using dictionary comprehension\n",
        "    result = {letter: letter.upper() for letter in letters}\n",
        "    \n",
        "    # Return the resulting dictionary\n",
        "    return result"
      ]
    },
    {
      "cell_type": "code",
      "execution_count": null,
      "id": "0459dad2",
      "metadata": {
        "id": "0459dad2",
        "outputId": "1529328b-e0e8-4bb9-e2f8-16249924ea83"
      },
      "outputs": [
        {
          "name": "stdout",
          "output_type": "stream",
          "text": [
            "{'p': 'P', 's': 'S'}\n"
          ]
        }
      ],
      "source": [
        "print(mapping([\"p\", \"s\"]))"
      ]
    },
    {
      "cell_type": "markdown",
      "id": "993068ba",
      "metadata": {
        "id": "993068ba"
      },
      "source": [
        "Question4\n",
        "Write a function, that replaces all vowels in a string with a specified vowel."
      ]
    },
    {
      "cell_type": "code",
      "execution_count": null,
      "id": "81919004",
      "metadata": {
        "id": "81919004"
      },
      "outputs": [],
      "source": [
        "def vow_replace(string, vowel):\n",
        "    # Define a string of vowels\n",
        "    vowels = \"aeiou\"\n",
        "    \n",
        "    # Iterate over each vowel in the string\n",
        "    for v in vowels:\n",
        "        # Replace the vowel with the specified vowel\n",
        "        string = string.replace(v, vowel)\n",
        "    \n",
        "    # Return the modified string\n",
        "    return string"
      ]
    },
    {
      "cell_type": "code",
      "execution_count": null,
      "id": "1ae3cc4c",
      "metadata": {
        "id": "1ae3cc4c",
        "outputId": "2fb86f76-e176-43bd-cf8b-9fad55f06fdb"
      },
      "outputs": [
        {
          "name": "stdout",
          "output_type": "stream",
          "text": [
            "upplus und bununus\n"
          ]
        }
      ],
      "source": [
        "print(vow_replace(\"apples and bananas\", \"u\"))"
      ]
    },
    {
      "cell_type": "markdown",
      "id": "a619d67e",
      "metadata": {
        "id": "a619d67e"
      },
      "source": [
        "Question5\n",
        "Create a function that takes a string as input and capitalizes a letter if its ASCII code is even\n",
        "and returns its lower case version if its ASCII code is odd."
      ]
    },
    {
      "cell_type": "code",
      "execution_count": 2,
      "id": "7b649858",
      "metadata": {
        "id": "7b649858"
      },
      "outputs": [],
      "source": [
        "def ascii_capitalize(string):\n",
        "    result = \"\"\n",
        "    \n",
        "    for char in string:\n",
        "        ascii_code = ord(char)\n",
        "        \n",
        "        if ascii_code % 2 == 0:\n",
        "            result += char.upper()\n",
        "        else:\n",
        "            result += char.lower()\n",
        "    \n",
        "    return result"
      ]
    },
    {
      "cell_type": "code",
      "execution_count": 3,
      "id": "164932d3",
      "metadata": {
        "colab": {
          "base_uri": "https://localhost:8080/"
        },
        "id": "164932d3",
        "outputId": "a979d59a-4767-4530-fab9-a4d1c83ab1b3"
      },
      "outputs": [
        {
          "output_type": "stream",
          "name": "stdout",
          "text": [
            "To Be oR NoT To Be THaTs THe quesTioN!\n"
          ]
        }
      ],
      "source": [
        "print(ascii_capitalize(\"to be or not to be Thats the Question!\"))"
      ]
    },
    {
      "cell_type": "markdown",
      "source": [
        "## Thank You...!! - By Mr.Abhishek Sachin Dhondalkar"
      ],
      "metadata": {
        "id": "wdDSnl1glRFn"
      },
      "id": "wdDSnl1glRFn"
    }
  ],
  "metadata": {
    "kernelspec": {
      "display_name": "Python 3 (ipykernel)",
      "language": "python",
      "name": "python3"
    },
    "language_info": {
      "codemirror_mode": {
        "name": "ipython",
        "version": 3
      },
      "file_extension": ".py",
      "mimetype": "text/x-python",
      "name": "python",
      "nbconvert_exporter": "python",
      "pygments_lexer": "ipython3",
      "version": "3.9.13"
    },
    "colab": {
      "provenance": []
    }
  },
  "nbformat": 4,
  "nbformat_minor": 5
}