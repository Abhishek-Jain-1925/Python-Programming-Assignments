{
  "cells": [
    {
      "cell_type": "markdown",
      "id": "3f824205",
      "metadata": {
        "id": "3f824205"
      },
      "source": [
        "## Python Assignment No. 05"
      ]
    },
    {
      "cell_type": "markdown",
      "id": "3a37bb3a",
      "metadata": {
        "id": "3a37bb3a"
      },
      "source": [
        "### 1. What does an empty dictionary&#39;s code look like?"
      ]
    },
    {
      "cell_type": "code",
      "execution_count": null,
      "id": "0ec14808",
      "metadata": {
        "id": "0ec14808"
      },
      "outputs": [],
      "source": [
        "dic = { }"
      ]
    },
    {
      "cell_type": "markdown",
      "id": "dc364589",
      "metadata": {
        "id": "dc364589"
      },
      "source": [
        "### 2. What is the value of a dictionary value with the key &#39;foo&#39; and the value 42?"
      ]
    },
    {
      "cell_type": "code",
      "execution_count": null,
      "id": "107b103a",
      "metadata": {
        "id": "107b103a"
      },
      "outputs": [],
      "source": [
        "dict = { \"foo\":42}"
      ]
    },
    {
      "cell_type": "code",
      "execution_count": null,
      "id": "01fa7d97",
      "metadata": {
        "id": "01fa7d97"
      },
      "outputs": [],
      "source": [
        " #the key is 'foo', and the corresponding value is 42"
      ]
    },
    {
      "cell_type": "markdown",
      "id": "439d69dc",
      "metadata": {
        "id": "439d69dc"
      },
      "source": [
        "### 3. What is the most significant distinction between a dictionary and a list?"
      ]
    },
    {
      "cell_type": "markdown",
      "id": "30297ba3",
      "metadata": {
        "id": "30297ba3"
      },
      "source": [
        "Dictionary:\n",
        "\n",
        "Stores data as key-value pairs.\n",
        "\n",
        "Keys must be unique and immutable.\n",
        "\n",
        "Values can be of any data type and mutable.\n",
        "\n",
        "Provides efficient lookup based on keys.\n",
        "\n",
        "Allows retrieval of values based on specific keys.\n",
        "\n",
        "Unordered collection of elements.\n",
        "\n",
        "\n",
        "List:\n",
        "\n",
        "Stores data as an ordered sequence of elements.\n",
        "\n",
        "Elements can be of any data type and mutable.\n",
        "\n",
        "Accessed and retrieved based on indices.\n",
        "\n",
        "Indices start from zero.\n",
        "\n",
        "Provides an ordered collection of elements.\n",
        "\n",
        "Elements are accessed based on their positions."
      ]
    },
    {
      "cell_type": "markdown",
      "id": "1fc5a332",
      "metadata": {
        "id": "1fc5a332"
      },
      "source": [
        "### 4. What happens if you try to access spam[foo] if spam is {'bar': 100}?"
      ]
    },
    {
      "cell_type": "code",
      "execution_count": null,
      "id": "dbb6ab10",
      "metadata": {
        "id": "dbb6ab10"
      },
      "outputs": [],
      "source": [
        "spam = {'bar':100}"
      ]
    },
    {
      "cell_type": "code",
      "execution_count": null,
      "id": "95900d5a",
      "metadata": {
        "id": "95900d5a",
        "outputId": "5924bb15-829b-42e9-98a2-cf31c9934299"
      },
      "outputs": [
        {
          "data": {
            "text/plain": [
              "100"
            ]
          },
          "execution_count": 7,
          "metadata": {},
          "output_type": "execute_result"
        }
      ],
      "source": [
        "spam['bar']"
      ]
    },
    {
      "cell_type": "markdown",
      "id": "e1727721",
      "metadata": {
        "id": "e1727721"
      },
      "source": [
        "#### spam[foo] with spam being {'bar': 100}, would encounter a NameError"
      ]
    },
    {
      "cell_type": "code",
      "execution_count": null,
      "id": "24fbdfa1",
      "metadata": {
        "id": "24fbdfa1",
        "outputId": "43084cfa-b5c8-45f1-820e-f091ee4a4d69"
      },
      "outputs": [
        {
          "ename": "NameError",
          "evalue": "name 'foo' is not defined",
          "output_type": "error",
          "traceback": [
            "\u001b[1;31m---------------------------------------------------------------------------\u001b[0m",
            "\u001b[1;31mNameError\u001b[0m                                 Traceback (most recent call last)",
            "\u001b[1;32mC:\\conda_tmp\\ipykernel_13756\\4029120104.py\u001b[0m in \u001b[0;36m<module>\u001b[1;34m\u001b[0m\n\u001b[1;32m----> 1\u001b[1;33m \u001b[0mspam\u001b[0m\u001b[1;33m[\u001b[0m\u001b[0mfoo\u001b[0m\u001b[1;33m]\u001b[0m\u001b[1;33m\u001b[0m\u001b[1;33m\u001b[0m\u001b[0m\n\u001b[0m",
            "\u001b[1;31mNameError\u001b[0m: name 'foo' is not defined"
          ]
        }
      ],
      "source": [
        "spam[foo]"
      ]
    },
    {
      "cell_type": "markdown",
      "id": "36ba58ea",
      "metadata": {
        "id": "36ba58ea"
      },
      "source": [
        "### 5. If a dictionary is stored in spam, what is the difference between the expressions &#39;cat&#39; in spam and &#39;cat&#39; in spam.keys()?"
      ]
    },
    {
      "cell_type": "markdown",
      "id": "3e595a65",
      "metadata": {
        "id": "3e595a65"
      },
      "source": [
        "The expressions 'cat' in spam and 'cat' in spam.keys() are used to check if the key 'cat' exists in the dictionary spam.\n",
        "\n",
        "1.'cat' in spam: This expression checks if the key 'cat' exists directly in the dictionary spam. It returns a boolean value (True or False) indicating whether the key is present as a direct key in the dictionary.\n",
        "\n",
        "2.'cat' in spam.keys(): This expression first retrieves all the keys of the dictionary spam using the keys() method. It then checks if the key 'cat' exists among those keys. It also returns a boolean value (True or False) indicating whether the key is present among the keys of the dictionary."
      ]
    },
    {
      "cell_type": "markdown",
      "id": "473e3710",
      "metadata": {
        "id": "473e3710"
      },
      "source": [
        "### 6. If a dictionary is stored in spam, what is the difference between the expressions &#39;cat&#39; in spam and&#39;cat&#39; in spam.values()?"
      ]
    },
    {
      "cell_type": "markdown",
      "id": "11057608",
      "metadata": {
        "id": "11057608"
      },
      "source": [
        " 1.'cat' in spam: This expression checks if the key 'cat' exists directly in the dictionary spam. It returns a boolean value (True or False) indicating whether the key is present as a direct key in the dictionary.\n",
        "\n",
        " 2.'cat' in spam.values(): This expression retrieves all the values from the dictionary spam using the values() method. It then checks if the value 'cat' exists among those values. It returns a boolean value (True or False) indicating whether the value is present among the values of the dictionary."
      ]
    },
    {
      "cell_type": "markdown",
      "id": "d9b094d1",
      "metadata": {
        "id": "d9b094d1"
      },
      "source": [
        "### 7. What is a shortcut for the following code?\n",
        "\n",
        "if &#39;color&#39; not in spam:\n",
        "\n",
        "spam[&#39;color&#39;] = &#39;black&#39;"
      ]
    },
    {
      "cell_type": "code",
      "execution_count": null,
      "id": "8114009c",
      "metadata": {
        "id": "8114009c",
        "outputId": "e118b7cb-bc05-4118-f554-0e64368a9762"
      },
      "outputs": [
        {
          "data": {
            "text/plain": [
              "'black'"
            ]
          },
          "execution_count": 12,
          "metadata": {},
          "output_type": "execute_result"
        }
      ],
      "source": [
        "spam.setdefault('color', 'black')"
      ]
    },
    {
      "cell_type": "markdown",
      "id": "711fc3db",
      "metadata": {
        "id": "711fc3db"
      },
      "source": [
        "### 8. How do you &quot;pretty print&quot; dictionary values using which module and function?"
      ]
    },
    {
      "cell_type": "code",
      "execution_count": null,
      "id": "82c64765",
      "metadata": {
        "id": "82c64765",
        "outputId": "1964ef22-a3bd-4408-ab00-c32ed3116ee4"
      },
      "outputs": [
        {
          "name": "stdout",
          "output_type": "stream",
          "text": [
            "{'key1': 'value1', 'key2': 'value2', 'key3': 'value3'}\n"
          ]
        }
      ],
      "source": [
        "import pprint\n",
        "\n",
        "my_dict = {'key1': 'value1', 'key2': 'value2', 'key3': 'value3'}\n",
        "pprint.pprint(my_dict)\n"
      ]
    },
    {
      "cell_type": "code",
      "execution_count": null,
      "id": "421c6e58",
      "metadata": {
        "id": "421c6e58"
      },
      "outputs": [],
      "source": [
        "#imported the pprint module and create a dictionary called my_dict. By calling pprint.pprint(my_dict)"
      ]
    },
    {
      "cell_type": "markdown",
      "source": [
        "##Thank You...!! -By Mr.Abhishek Sachin Dhondalkar"
      ],
      "metadata": {
        "id": "lxF_FRSZIwJM"
      },
      "id": "lxF_FRSZIwJM"
    }
  ],
  "metadata": {
    "kernelspec": {
      "display_name": "Python 3 (ipykernel)",
      "language": "python",
      "name": "python3"
    },
    "language_info": {
      "codemirror_mode": {
        "name": "ipython",
        "version": 3
      },
      "file_extension": ".py",
      "mimetype": "text/x-python",
      "name": "python",
      "nbconvert_exporter": "python",
      "pygments_lexer": "ipython3",
      "version": "3.9.13"
    },
    "colab": {
      "provenance": []
    }
  },
  "nbformat": 4,
  "nbformat_minor": 5
}