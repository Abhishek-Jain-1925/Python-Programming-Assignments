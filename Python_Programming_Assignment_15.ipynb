{
  "cells": [
    {
      "cell_type": "markdown",
      "id": "1d2143d8",
      "metadata": {
        "id": "1d2143d8"
      },
      "source": [
        "## Python Programming Assignment 15"
      ]
    },
    {
      "cell_type": "markdown",
      "id": "0b2af9bb",
      "metadata": {
        "id": "0b2af9bb"
      },
      "source": [
        "Question 1:\n",
        "Please write a program using generator to print the numbers which can be divisible by 5 and\n",
        "7 between 0 and n in comma separated form while n is input by console.\n",
        "Example:\n",
        "If the following n is given as input to the program:\n",
        "100\n",
        "Then, the output of the program should be:\n",
        "0,35,70"
      ]
    },
    {
      "cell_type": "code",
      "execution_count": null,
      "id": "5bb24e7d",
      "metadata": {
        "id": "5bb24e7d",
        "outputId": "fd27b6f3-c5fc-40fa-eea2-06023753c265"
      },
      "outputs": [
        {
          "name": "stdout",
          "output_type": "stream",
          "text": [
            "Enter a number: 100\n",
            "0,35,70\n"
          ]
        }
      ],
      "source": [
        "def divisible_by_5_and_7(n):\n",
        "    for num in range(n + 1):\n",
        "        if num % 5 == 0 and num % 7 == 0:\n",
        "            yield num\n",
        "\n",
        "n = int(input(\"Enter a number: \"))\n",
        "result = divisible_by_5_and_7(n)\n",
        "output = \",\".join(str(num) for num in result)\n",
        "print(output)"
      ]
    },
    {
      "cell_type": "markdown",
      "id": "c1d782d6",
      "metadata": {
        "id": "c1d782d6"
      },
      "source": [
        "Question 2:\n",
        "Please write a program using generator to print the even numbers between 0 and n in comma\n",
        "separated form while n is input by console.\n",
        "Example:\n",
        "If the following n is given as input to the program:\n",
        "10\n",
        "Then, the output of the program should be:\n",
        "0,2,4,6,8,10"
      ]
    },
    {
      "cell_type": "code",
      "execution_count": null,
      "id": "44685dfe",
      "metadata": {
        "id": "44685dfe",
        "outputId": "02e0f306-613c-4169-d15d-8771b740f8e3"
      },
      "outputs": [
        {
          "name": "stdout",
          "output_type": "stream",
          "text": [
            "Enter a number: 10\n",
            "0,2,4,6,8,10\n"
          ]
        }
      ],
      "source": [
        "def even_numbers(n):\n",
        "    for num in range(n + 1):\n",
        "        if num % 2 == 0:\n",
        "            yield num\n",
        "\n",
        "n = int(input(\"Enter a number: \"))\n",
        "result = even_numbers(n)\n",
        "output = \",\".join(str(num) for num in result)\n",
        "print(output)"
      ]
    },
    {
      "cell_type": "markdown",
      "id": "52fc9f0a",
      "metadata": {
        "id": "52fc9f0a"
      },
      "source": [
        "Question 3:\n",
        "The Fibonacci Sequence is computed based on the following formula:\n",
        "f(n)=0 if n=0\n",
        "f(n)=1 if n=1\n",
        "f(n)=f(n-1)+f(n-2) if n&gt;1\n",
        "Please write a program using list comprehension to print the Fibonacci Sequence in comma\n",
        "separated form with a given n input by console.\n",
        "Example:\n",
        "If the following n is given as input to the program:\n",
        "7\n",
        "\n",
        "\n",
        "Then, the output of the program should be:\n",
        "0,1,1,2,3,5,8,13"
      ]
    },
    {
      "cell_type": "code",
      "execution_count": null,
      "id": "d78a895c",
      "metadata": {
        "id": "d78a895c",
        "outputId": "4397a76d-86ab-491e-f31a-a5c51dc82b3c"
      },
      "outputs": [
        {
          "name": "stdout",
          "output_type": "stream",
          "text": [
            "Enter a number: 7\n",
            "0,1,1,2,3,5,8,13\n"
          ]
        }
      ],
      "source": [
        "def fibonacci_sequence(n):\n",
        "    fib_seq = [0, 1]\n",
        "    [fib_seq.append(fib_seq[-1] + fib_seq[-2]) for _ in range(2, n+1)]\n",
        "    return fib_seq\n",
        "\n",
        "n = int(input(\"Enter a number: \"))\n",
        "fib_sequence = fibonacci_sequence(n)\n",
        "output = \",\".join(str(num) for num in fib_sequence)\n",
        "print(output)"
      ]
    },
    {
      "cell_type": "markdown",
      "id": "fd8c743e",
      "metadata": {
        "id": "fd8c743e"
      },
      "source": [
        "Question 4:\n",
        "Assuming that we have some email addresses in the &quot;username@companyname.com&quot; format,\n",
        "please write program to print the user name of a given email address. Both user names and\n",
        "company names are composed of letters only.\n",
        "Example:\n",
        "If the following email address is given as input to the program:\n",
        "john@google.com\n",
        "Then, the output of the program should be:\n",
        "john"
      ]
    },
    {
      "cell_type": "code",
      "execution_count": null,
      "id": "68944212",
      "metadata": {
        "id": "68944212",
        "outputId": "834835c8-6186-4826-919b-4cb6829e19e5"
      },
      "outputs": [
        {
          "name": "stdout",
          "output_type": "stream",
          "text": [
            "Enter an email address: john@google.com\n",
            "john\n"
          ]
        }
      ],
      "source": [
        "email = input(\"Enter an email address: \")\n",
        "\n",
        "at_index = email.index(\"@\")\n",
        "\n",
        "username = email[:at_index]\n",
        "\n",
        "print(username)"
      ]
    },
    {
      "cell_type": "markdown",
      "source": [
        "## Thank You...!! - By Mr.Abhishek Sachin Dhondalkar"
      ],
      "metadata": {
        "id": "NUtslMaujVHg"
      },
      "id": "NUtslMaujVHg"
    }
  ],
  "metadata": {
    "kernelspec": {
      "display_name": "Python 3 (ipykernel)",
      "language": "python",
      "name": "python3"
    },
    "language_info": {
      "codemirror_mode": {
        "name": "ipython",
        "version": 3
      },
      "file_extension": ".py",
      "mimetype": "text/x-python",
      "name": "python",
      "nbconvert_exporter": "python",
      "pygments_lexer": "ipython3",
      "version": "3.9.13"
    },
    "colab": {
      "provenance": []
    }
  },
  "nbformat": 4,
  "nbformat_minor": 5
}