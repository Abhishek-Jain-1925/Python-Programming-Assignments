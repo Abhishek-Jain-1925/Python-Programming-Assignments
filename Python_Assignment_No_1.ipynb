{
  "cells": [
    {
      "cell_type": "markdown",
      "id": "8823e177",
      "metadata": {
        "id": "8823e177"
      },
      "source": [
        "## Python Assignment No.
      ]
    },
    {
      "cell_type": "markdown",
      "id": "16a45193",
      "metadata": {
        "id": "16a45193"
      },
      "source": [
        "#### 1. In the below elements which of them are values or an expression? eg:- values can be integer or string and expressions will be mathematical operators."
      ]
    },
    {
      "cell_type": "markdown",
      "id": "bdf714b8",
      "metadata": {
        "id": "bdf714b8"
      },
      "source": [
        "#### expression\n",
        "*     -->  multiplication operator\n",
        "\n",
        "-     -->  subtraction operator\n",
        "\n",
        "+     -->  addition operator\n",
        "\n",
        "/     -->  division operator\n",
        "\n",
        "#### value\n",
        "hello  -->  string\n",
        "\n",
        "-87.8  -->  float\n",
        "\n",
        "6      -->  integer\n"
      ]
    },
    {
      "cell_type": "markdown",
      "id": "1aeffc55",
      "metadata": {
        "id": "1aeffc55"
      },
      "source": [
        "### 2 What is the difference between string and variable?"
      ]
    },
    {
      "cell_type": "markdown",
      "id": "f67c6ffd",
      "metadata": {
        "id": "f67c6ffd"
      },
      "source": [
        "#### string\n",
        "A string is a immutable sequence of characters enclosed within quotes. \n",
        "For example, \"Hello, World!\" is a string.\n",
        "#### variable\n",
        "A variable is a name given to a memory location in a program.\n",
        "It holds a value or reference to a value.\n",
        "#### Difference\n",
        "In programming, a variable can hold a value of any data type, including strings. \n",
        "For example, a = \"John\" creates a variable named 'a' that holds the string value \"John\"."
      ]
    },
    {
      "cell_type": "markdown",
      "id": "58adb125",
      "metadata": {
        "id": "58adb125"
      },
      "source": [
        "### 3 Describe three different data types."
      ]
    },
    {
      "cell_type": "markdown",
      "id": "9aeaffb3",
      "metadata": {
        "id": "9aeaffb3"
      },
      "source": [
        "#### Integer: An integer is a whole number with no decimal point.\n",
        "         In Python, integers are represented by the int data type.\n",
        "         For example, x = 5 creates a variable x that holds the integer value 5.\n",
        "\n",
        "#### Float: A float is a decimal number with a decimal point. \n",
        "       In Python, floats are represented by the float data type. \n",
        "       For example, y = 3.14 creates a variable y that holds the float value 3.14.\n",
        "\n",
        "#### String: A string is a sequence of characters enclosed within quotes. \n",
        "        In Python, strings are represented by the str data type. \n",
        "        For example, a = \"John\" creates a variable a that holds the string value \"John\"."
      ]
    },
    {
      "cell_type": "markdown",
      "id": "b750e44c",
      "metadata": {
        "id": "b750e44c"
      },
      "source": [
        "### 4. What is an expression made up of? What do all expressions do?"
      ]
    },
    {
      "cell_type": "markdown",
      "id": "106e20aa",
      "metadata": {
        "id": "106e20aa"
      },
      "source": [
        "An expression is a combination of one or more values,variables,operators.\n",
        "and function calls that can be evaluated to produce a result.\n",
        "\n",
        "Expressions can be as simple as a single value, such as 3,\n",
        "or as complex as a multi-line mathematical equation. Examples of expressions include:\n",
        "\n",
        "x + 5\n",
        "\n",
        "2 * y\n",
        "\n",
        "Expressions can be used for various purposes, such as assigning values to variables, performing mathematical or logical operations, and making decisions in conditional statements.\n",
        "\n",
        "For example, in the expression x + 5, the value of x is added to 5 to produce a result. This result can then be assigned to a variable, printed to the console, or used in a conditional statement to make a decision."
      ]
    },
    {
      "cell_type": "markdown",
      "id": "674d31ea",
      "metadata": {
        "id": "674d31ea"
      },
      "source": [
        "### 5.This assignment statements, like spam = 10. What is the difference between anexpression and a statement?"
      ]
    },
    {
      "cell_type": "markdown",
      "id": "909bc285",
      "metadata": {
        "id": "909bc285"
      },
      "source": [
        "#### In programming, an expression is a combination of one or more values, variables, operators,and function calls that can be evaluated to produce a result.\n",
        "Examples of expressions include \n",
        "3 + 5, \n",
        "len(\"hello\"),\n",
        "and x * y.\n",
        "\n",
        "On the other hand, a statement is a complete line of code that performs some action or operation.\n",
        "Statements can be simple or complex and may contain expressions.\n",
        "\n",
        "Examples of statements in Python include:\n",
        "Assignment statements, such as spam = 10\n",
        "Print statements, such as print(\"Hello, World!\")\n",
        "Conditional statements, such as if x > 5:\n",
        "Loop statements, such as for i in range(10)\n",
        "\n",
        "#### The main difference between an expression and a statement:\n",
        "is that an expression evaluates to a value, while a statement does not. \n",
        "In the assignment statement spam = 10, the expression 10 is evaluated and \n",
        "assigned to the variable spam. The assignment statement itself does not produce a value, \n",
        "but rather performs the operation of assigning a value to a variable"
      ]
    },
    {
      "cell_type": "markdown",
      "id": "ac08e7db",
      "metadata": {
        "id": "ac08e7db"
      },
      "source": [
        "### 6.After running the following code, what does the variable bacon contain?\n",
        "bacon = 22\n",
        "bacon + 1"
      ]
    },
    {
      "cell_type": "code",
      "execution_count": null,
      "id": "b0097a42",
      "metadata": {
        "id": "b0097a42",
        "outputId": "569684ab-4d87-4ead-9da4-aaf7bb9bff86"
      },
      "outputs": [
        {
          "data": {
            "text/plain": [
              "23"
            ]
          },
          "execution_count": 1,
          "metadata": {},
          "output_type": "execute_result"
        }
      ],
      "source": [
        "bacon = 22\n",
        "bacon + 1"
      ]
    },
    {
      "cell_type": "code",
      "execution_count": null,
      "id": "9f5cd416",
      "metadata": {
        "id": "9f5cd416",
        "outputId": "23290a88-e93a-47b8-ceeb-01f61f2a83fc"
      },
      "outputs": [
        {
          "name": "stdout",
          "output_type": "stream",
          "text": [
            "22\n"
          ]
        }
      ],
      "source": [
        "print(bacon)"
      ]
    },
    {
      "cell_type": "markdown",
      "id": "864df94b",
      "metadata": {
        "id": "864df94b"
      },
      "source": [
        "#### In this code the first line assigns the value 22 to the variable bacon. The second line adds 1 to the value of bacon but does not assign the result to a variableso the value of bacon remains unchanged."
      ]
    },
    {
      "cell_type": "markdown",
      "id": "47e9a8f7",
      "metadata": {
        "id": "47e9a8f7"
      },
      "source": [
        "### 7.What should the values of the following two terms be?\n"
      ]
    },
    {
      "cell_type": "code",
      "execution_count": null,
      "id": "22faf444",
      "metadata": {
        "id": "22faf444",
        "outputId": "87c9430c-77c1-4e21-e54e-9105c4835626"
      },
      "outputs": [
        {
          "data": {
            "text/plain": [
              "'spamspamspam'"
            ]
          },
          "execution_count": 3,
          "metadata": {},
          "output_type": "execute_result"
        }
      ],
      "source": [
        "'spam'+ 'spamspam'\n",
        "'spam' * 3"
      ]
    },
    {
      "cell_type": "markdown",
      "id": "57f236a2",
      "metadata": {
        "id": "57f236a2"
      },
      "source": [
        "The values of the following two terms should be the same, which is the string \"spamspamspam\".\n",
        "\n",
        "The first term, 'spam' + 'spamspam', concatenates two strings \"spam\" and \"spamspam\", using the + operator. The result is a new string \"spamspamspam\".\n",
        "\n",
        "The second term, 'spam' * 3, uses the * operator to repeat the string \"spam\" three times. The result is also the string \"spamspamspam\".\n",
        "\n",
        "Therefore, both terms result in the same string value of \"spamspamspam\"."
      ]
    },
    {
      "cell_type": "markdown",
      "id": "26ce7c47",
      "metadata": {
        "id": "26ce7c47"
      },
      "source": [
        "### 8.Why is eggs a valid variable name while 100 is invalid?"
      ]
    },
    {
      "cell_type": "markdown",
      "id": "851d0c9e",
      "metadata": {
        "id": "851d0c9e"
      },
      "source": [
        "### In Python, variable names must follow certain rules and conventions.\n",
        "\n",
        "1] The first character of a variable name must be a letter or an underscore (_).\n",
        "\n",
        "2] After the first character, a variable name can contain letters, digits, or underscores.Variable names are case-sensitive, which means that spam, SPAM, and Spam are three different variables.\n",
        "\n",
        "3]Based on these rules, eggs is a valid variable name because it starts with a letter (e) and contains only letters. It follows the conventions of using lowercase letters for variable names, which makes it easy to read and understand.\n",
        "\n",
        "4]On the other hand, 100 is an invalid variable name because it starts with a digit (1).\n",
        "Variable names cannot start with digits in Python. If you need to use a number in a variable name, \n",
        "you can include it after the first character, for example, spam100.\n",
        "\n",
        "5]In summary, variable names in Python must follow certain rules and conventions,including starting with a letter or underscore, containing only letters, digits, or underscores, and avoiding reserved keywords. eggs is a valid variable name because it follows these rules and conventions,\n",
        "while 100 is an invalid variable name because it starts with a digit."
      ]
    },
    {
      "cell_type": "markdown",
      "source": [
        "##Thank You...!! - By Mr.Abhishek Sachin Dhondalkar\n"
      ],
      "metadata": {
        "id": "vbWTYwKGDOSO"
      },
      "id": "vbWTYwKGDOSO"
    }
  ],
  "metadata": {
    "kernelspec": {
      "display_name": "Python 3 (ipykernel)",
      "language": "python",
      "name": "python3"
    },
    "language_info": {
      "codemirror_mode": {
        "name": "ipython",
        "version": 3
      },
      "file_extension": ".py",
      "mimetype": "text/x-python",
      "name": "python",
      "nbconvert_exporter": "python",
      "pygments_lexer": "ipython3",
      "version": "3.9.13"
    },
    "colab": {
      "provenance": []
    }
  },
  "nbformat": 4,
  "nbformat_minor": 5
}
